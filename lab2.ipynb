{
 "cells": [
  {
   "cell_type": "markdown",
   "metadata": {},
   "source": [
    "# Лабораторная работа №2. 16 МАГ ИАД Мартиросян Алиса\n",
    "\n",
    "Использованные языки:\n",
    "    - English \n",
    "    - Gothic \n",
    "    \n",
    "    \n",
    " ## Часть I: Установка и использование SyntaxNet\n",
    " \n",
    " Для установки SyntaxNet был выбран вариант с запуском Docker контейнера под Windows 10. Для этого был установлен Docker Version 17.09.1 и использован готовый образ от tensorflow: \n",
    " \n",
    "```\n",
    " docker pull tensorflow/syntaxnet\n",
    "```\n",
    " \n",
    " Так же для правильной работы под Windows требовалось отключить ipV6 в настройках виртуального сетевого адаптера Docker и вручную прописать днс-порт. Далее контейнер стартовался командой:\n",
    " \n",
    "```\n",
    " docker run -it -p 8888:8888 tensorflow/syntaxnet\n",
    "```\n",
    " \n",
    " \n",
    " ## Прогон тестовых корпусов через SyntaxNet POS-tagger\n",
    " \n",
    " 1. With SyntaxNet Pos-Tagger \n",
    " Для прогона языком с помощью пос-теггера SyntaxNet был использован следующий скрипт parse_with_tagger.sh\n",
    "\n",
    "```\n",
    "cat /data/UD_English/en-ud-test.conllu | syntaxnet/parse_with_tagger.sh --conll /models/english/English > /output/eng-with-tagger.conll\n",
    "\n",
    "cat /data/UD_Gothic/got-ud-test.conllu | syntaxnet/parse_with_tagger.sh --conll /models/gothic/Gothic > /output/go-with-tagger.conll\n",
    "```\n",
    "\n",
    "2. Without SyntaxNet Pos-Tagger \n",
    " Для прогона языком с помощью пос-теггера SyntaxNet был использован следующий скрипт parse_without_tagger.sh\n",
    " \n",
    " ```\n",
    "  cat /data/UD_English/en-ud-test.conllu | syntaxnet/parse_without_tagger.sh --conll /models/english/English > /output/eng-wo-tagger.conll\n",
    "  cat /data/UD_Gothic/got-ud-test.conllu | syntaxnet/parse_without_tagger.sh --conll /models/gothic/Gothic > /output/go-wo-tagger.conll\n",
    "```\n",
    "  \n",
    "\n",
    "## English language \n",
    "\n",
    "### Морфологический тип языка: \n",
    "\n",
    "Флективный - основной грамматический способ – аффиксация, причём использование не только внешней, но и внутренней флексии; флексии многозначны.\n",
    "\n",
    "### Accuracy (POS) :\n",
    "\n",
    "```\n",
    "INFO:tensorflow:Total processed documents: 2077\n",
    "INFO:tensorflow:num correct tokens: 19976\n",
    "INFO:tensorflow:total tokens: 25096\n",
    "INFO:tensorflow:Seconds elapsed in evaluation: 78.43, eval metric: 79.60%\n",
    "```"
   ]
  },
  {
   "cell_type": "code",
   "execution_count": 5,
   "metadata": {
    "collapsed": true
   },
   "outputs": [],
   "source": [
    "import os\n",
    "import os.path\n",
    "import urllib\n",
    "from zipfile import ZipFile\n",
    "import sys\n",
    "import nltk\n",
    "import math\n",
    "import time\n",
    "import collections\n",
    "import itertools\n",
    "from itertools import cycle, islice\n",
    "import pandas as pd\n",
    "from matplotlib import cm\n",
    "import matplotlib.pyplot as plt\n",
    "%matplotlib inline\n",
    "\n",
    "DATA_DIR = '/output'\n",
    "\n",
    "def read_sents(path_to_file):\n",
    "    TO_SKIP = ('#')\n",
    "    EOL = '\\n'\n",
    "    with open(path_to_file, 'r') as f:\n",
    "        sentences = []\n",
    "        sentence = []\n",
    "        for line in f.readlines():\n",
    "            line = line.strip().decode('utf-8')\n",
    "            if line.startswith(TO_SKIP):\n",
    "                # This is likely to be a comment\n",
    "                continue\n",
    "            elif len(line) < 1:\n",
    "                # Sentence is over\n",
    "                if sentence is not None and len(sentence):\n",
    "                    sentences.append(EOL.join(sentence))\n",
    "                    sentence = []\n",
    "            else:\n",
    "                # Store line to sentence\n",
    "                sentence.append(line)\n",
    "        return sentences\n",
    "            \n",
    "def calc_las_and_uas(path_to_predicted_file, path_to_gold_file):\n",
    "    gold_sents = [nltk.parse.DependencyGraph(s) for s in read_sents(path_to_gold_file)]\n",
    "    parsed_sents = [nltk.parse.DependencyGraph(s) for s in read_sents(path_to_predicted_file)]\n",
    "    de = nltk.parse.DependencyEvaluator(parsed_sents, gold_sents)\n",
    "    return de.eval() \n"
   ]
  },
  {
   "cell_type": "markdown",
   "metadata": {},
   "source": [
    "\n",
    "## English LAS и UAS"
   ]
  },
  {
   "cell_type": "code",
   "execution_count": 78,
   "metadata": {},
   "outputs": [
    {
     "name": "stdout",
     "output_type": "stream",
     "text": [
      "LAS: 0.811147062845, UAS: 0.580276170077\n"
     ]
    }
   ],
   "source": [
    "gold_file = '/data/UD_English/en-ud-test.conllu'\n",
    "parsed_file = '/output/english/en-with-tagger.conll'\n",
    "las, uas = calc_las_and_uas(parsed_file, gold_file)\n",
    "print('LAS: {}, UAS: {}'.format(las, uas))"
   ]
  },
  {
   "cell_type": "markdown",
   "metadata": {},
   "source": [
    "### Часть II: языковая статистика по результатам прогона SyntaxNet"
   ]
  },
  {
   "cell_type": "code",
   "execution_count": 34,
   "metadata": {
    "collapsed": true
   },
   "outputs": [],
   "source": [
    "import sys\n",
    "import nltk\n",
    "import math\n",
    "import time\n",
    "import collections\n",
    "import itertools\n",
    "from itertools import cycle, islice\n",
    "import math\n",
    "import pandas as pd\n",
    "from matplotlib import cm\n",
    "import matplotlib.pyplot as plt\n",
    "import nltk\n",
    "import numpy as np\n",
    "import io\n",
    "%matplotlib inline\n",
    "\n",
    "TAB_CHAR = '\\t'\n",
    "EQ_SIGN_CHAR = '='\n",
    "PIPE_CHAR = '|'\n",
    "\n",
    "BINARY_ATTRIBUTES = ['Abbr', 'Foreign', 'Poss', 'Reflex']\n",
    "CATEGORICAL_ATTRIBUTES = ['Animacy', 'Aspect', 'Case', 'Definite', 'Degree', 'Evident', 'Gender', 'Mood',\\\n",
    "                          'NumType', 'Number', 'Person', 'Polarity', 'Polite', 'PronType', 'Tense',\\\n",
    "                          'VerbForm', 'Voice']\n",
    "\n",
    "FOREIGN_ATTR = 'Foreign'\n",
    "YES_WORD = 'Yes'\n",
    "\n",
    "def parse_conll(conll):\n",
    "   with open(conll, 'r') as f:\n",
    "        lines = f.readlines()\n",
    "        tag_count = collections.defaultdict(int)\n",
    "        attr_count = collections.defaultdict(int)\n",
    "        dep_count = collections.defaultdict(int)\n",
    "        word_count = collections.defaultdict(int)\n",
    "        all_tokens_count = 0\n",
    "        for line in lines:\n",
    "            splitted_line = line.split(TAB_CHAR)\n",
    "            word_index = splitted_line[0]\n",
    "\n",
    "            if word_index.isdigit():\n",
    "                word = splitted_line[1]\n",
    "                word_count[word] += 1\n",
    "                all_tokens_count += 1\n",
    "                pos = splitted_line[3]\n",
    "                tag_count[pos] += 1\n",
    "\n",
    "                attributes = splitted_line[5]\n",
    "                for attr in BINARY_ATTRIBUTES:\n",
    "                    index = attributes.find(attr)\n",
    "                    if index > -1:\n",
    "                        index += len(attr) + 1\n",
    "                        nstring = ''\n",
    "                        if attr != FOREIGN_ATTR:\n",
    "                            nstring = attributes[index:index+len(YES_WORD)]\n",
    "                        else:\n",
    "                            nstring = attributes[index:index+len(FOREIGN_ATTR)]\n",
    "                        if nstring == YES_WORD or nstring == FOREIGN_ATTR:\n",
    "                            attr_count[attr] += 1\n",
    "                for attr in CATEGORICAL_ATTRIBUTES:\n",
    "                    index = attributes.find(attr)\n",
    "                    if index != -1:\n",
    "                        index += len(attr)\n",
    "                        cut_string = attributes[index:]\n",
    "                        index_start = cut_string.find(EQ_SIGN_CHAR)\n",
    "                        index_start += 1 # =\n",
    "                        index_end = cut_string.find(PIPE_CHAR)\n",
    "                        if index_end == -1:\n",
    "                            index_end = cut_string.find(TAB_CHAR)\n",
    "                        if index_end != -1:\n",
    "                            value = cut_string[index_start:index_end]\n",
    "                            attr_name = attr + ':' + value\n",
    "                            attr_count[attr_name] += 1\n",
    "\n",
    "                dep = splitted_line[7]\n",
    "                dep_count[dep] += 1 \n",
    "\n",
    "        return all_tokens_count, word_count, tag_count, attr_count, dep_count"
   ]
  },
  {
   "cell_type": "code",
   "execution_count": 44,
   "metadata": {
    "collapsed": true
   },
   "outputs": [],
   "source": [
    "def pos_stat(tag_count):\n",
    "    df = pd.DataFrame([(lambda tag, count: {'PoS':tag, 'Count':count})(tag, count) for tag, count in tag_count.items()])\n",
    "    df['CountNormalize'] = df.Count.apply(lambda x : float(x)/sum(df.Count))\n",
    "    df = df[['PoS', 'Count','CountNormalize']]\n",
    "    return df.sort_values('CountNormalize', ascending=False)\n",
    "\n",
    "def pos_plot(pos_stat_data):\n",
    "    pos_stat_data.plot(x='PoS', y='CountNormalize', kind='bar', grid=True, figsize=(10,6), legend=False)\n",
    "    plt.show()\n",
    "   \n",
    "\n",
    "def attr_stat(attr_count):\n",
    "    attrs = []\n",
    "    counts = []\n",
    "    norms = []\n",
    "    for attr, count in attr_count.items():\n",
    "        attrs.append(attr)\n",
    "        counts.append(count)\n",
    "    table = pd.DataFrame(data={'Attribute' : attrs, 'Count' : counts})\n",
    "    for i in counts:\n",
    "        norms.append(float(i) / sum(table.Count))\n",
    "    table['Norm'] = norms\n",
    "    table = table[['Attribute', 'Count','Norm']]\n",
    "    return table\n",
    "\n",
    "def dep_stat(dep_count):\n",
    "    deps = []\n",
    "    counts = []\n",
    "    norms = []\n",
    "    for dep, count in dep_count.items():\n",
    "        deps.append(dep)\n",
    "        counts.append(count)\n",
    "    table = pd.DataFrame(data={'Dep' : deps, 'Count' : counts})\n",
    "    for i in counts:\n",
    "        norms.append(float(i) / sum(table.Count))\n",
    "    table['Norm'] = norms\n",
    "    table = table[['Dep', 'Count','Norm']]\n",
    "    return table\n",
    "\n",
    "\n",
    "def show_plot(data, column, title):\n",
    "    my_colors = list(islice(cycle(['b', 'r', 'g', 'y', 'k', 'black', 'orange', 'purple', 'gray']), None, len(data)))\n",
    "    data.plot(x=column, y='Norm', kind='bar', figsize=(5, 5), grid=True, title=title, legend=False, color=my_colors)\n",
    "    plt.show()"
   ]
  },
  {
   "cell_type": "code",
   "execution_count": 45,
   "metadata": {},
   "outputs": [],
   "source": [
    "\n",
    "en_train = '/data/UD_English/en-ud-test.conllu'\n",
    "en_test ='/data/UD_English/en-ud-train.conllu'\n",
    "\n",
    "# Info for train data\n",
    "en_train_token_count, en_train_word_count, en_train_tag_count, en_train_attr_count, en_train_dep_count = \\\n",
    "                                                                parse_conll(en_train)\n",
    "# Info for test data\n",
    "en_test_token_count, en_test_word_count, en_test_tag_count, en_test_attr_count, en_test_dep_count = \\\n",
    "                                                            parse_conll(en_test)"
   ]
  },
  {
   "cell_type": "markdown",
   "metadata": {},
   "source": [
    "## English Pos-Tag Statistic (train)"
   ]
  },
  {
   "cell_type": "code",
   "execution_count": 97,
   "metadata": {
    "scrolled": true
   },
   "outputs": [
    {
     "data": {
      "text/html": [
       "<div>\n",
       "<table border=\"1\" class=\"dataframe\">\n",
       "  <thead>\n",
       "    <tr style=\"text-align: right;\">\n",
       "      <th></th>\n",
       "      <th>PoS</th>\n",
       "      <th>Count</th>\n",
       "      <th>CountNormalize</th>\n",
       "    </tr>\n",
       "  </thead>\n",
       "  <tbody>\n",
       "    <tr>\n",
       "      <th>1</th>\n",
       "      <td>NOUN</td>\n",
       "      <td>4133</td>\n",
       "      <td>0.164688</td>\n",
       "    </tr>\n",
       "    <tr>\n",
       "      <th>4</th>\n",
       "      <td>PUNCT</td>\n",
       "      <td>3106</td>\n",
       "      <td>0.123765</td>\n",
       "    </tr>\n",
       "    <tr>\n",
       "      <th>12</th>\n",
       "      <td>VERB</td>\n",
       "      <td>2653</td>\n",
       "      <td>0.105714</td>\n",
       "    </tr>\n",
       "    <tr>\n",
       "      <th>11</th>\n",
       "      <td>PRON</td>\n",
       "      <td>2158</td>\n",
       "      <td>0.085990</td>\n",
       "    </tr>\n",
       "    <tr>\n",
       "      <th>6</th>\n",
       "      <td>PROPN</td>\n",
       "      <td>2076</td>\n",
       "      <td>0.082722</td>\n",
       "    </tr>\n",
       "    <tr>\n",
       "      <th>3</th>\n",
       "      <td>ADP</td>\n",
       "      <td>2019</td>\n",
       "      <td>0.080451</td>\n",
       "    </tr>\n",
       "    <tr>\n",
       "      <th>7</th>\n",
       "      <td>DET</td>\n",
       "      <td>1896</td>\n",
       "      <td>0.075550</td>\n",
       "    </tr>\n",
       "    <tr>\n",
       "      <th>16</th>\n",
       "      <td>ADJ</td>\n",
       "      <td>1692</td>\n",
       "      <td>0.067421</td>\n",
       "    </tr>\n",
       "    <tr>\n",
       "      <th>15</th>\n",
       "      <td>AUX</td>\n",
       "      <td>1496</td>\n",
       "      <td>0.059611</td>\n",
       "    </tr>\n",
       "    <tr>\n",
       "      <th>0</th>\n",
       "      <td>ADV</td>\n",
       "      <td>1226</td>\n",
       "      <td>0.048852</td>\n",
       "    </tr>\n",
       "    <tr>\n",
       "      <th>14</th>\n",
       "      <td>CCONJ</td>\n",
       "      <td>738</td>\n",
       "      <td>0.029407</td>\n",
       "    </tr>\n",
       "    <tr>\n",
       "      <th>10</th>\n",
       "      <td>PART</td>\n",
       "      <td>630</td>\n",
       "      <td>0.025104</td>\n",
       "    </tr>\n",
       "    <tr>\n",
       "      <th>2</th>\n",
       "      <td>NUM</td>\n",
       "      <td>536</td>\n",
       "      <td>0.021358</td>\n",
       "    </tr>\n",
       "    <tr>\n",
       "      <th>5</th>\n",
       "      <td>SCONJ</td>\n",
       "      <td>386</td>\n",
       "      <td>0.015381</td>\n",
       "    </tr>\n",
       "    <tr>\n",
       "      <th>13</th>\n",
       "      <td>X</td>\n",
       "      <td>139</td>\n",
       "      <td>0.005539</td>\n",
       "    </tr>\n",
       "    <tr>\n",
       "      <th>9</th>\n",
       "      <td>INTJ</td>\n",
       "      <td>120</td>\n",
       "      <td>0.004782</td>\n",
       "    </tr>\n",
       "    <tr>\n",
       "      <th>8</th>\n",
       "      <td>SYM</td>\n",
       "      <td>92</td>\n",
       "      <td>0.003666</td>\n",
       "    </tr>\n",
       "  </tbody>\n",
       "</table>\n",
       "</div>"
      ],
      "text/plain": [
       "      PoS  Count  CountNormalize\n",
       "1    NOUN   4133        0.164688\n",
       "4   PUNCT   3106        0.123765\n",
       "12   VERB   2653        0.105714\n",
       "11   PRON   2158        0.085990\n",
       "6   PROPN   2076        0.082722\n",
       "3     ADP   2019        0.080451\n",
       "7     DET   1896        0.075550\n",
       "16    ADJ   1692        0.067421\n",
       "15    AUX   1496        0.059611\n",
       "0     ADV   1226        0.048852\n",
       "14  CCONJ    738        0.029407\n",
       "10   PART    630        0.025104\n",
       "2     NUM    536        0.021358\n",
       "5   SCONJ    386        0.015381\n",
       "13      X    139        0.005539\n",
       "9    INTJ    120        0.004782\n",
       "8     SYM     92        0.003666"
      ]
     },
     "execution_count": 97,
     "metadata": {},
     "output_type": "execute_result"
    }
   ],
   "source": [
    "en_train_stat = pos_stat(en_train_tag_count)\n",
    "en_train_stat\n"
   ]
  },
  {
   "cell_type": "code",
   "execution_count": 98,
   "metadata": {},
   "outputs": [
    {
     "data": {
      "image/png": "[encoded data removed]",
      "text/plain": [
       "<matplotlib.figure.Figure at 0x7f3fc40a5090>"
      ]
     },
     "metadata": {},
     "output_type": "display_data"
    }
   ],
   "source": [
    "pos_plot(en_train_stat)"
   ]
  },
  {
   "cell_type": "markdown",
   "metadata": {},
   "source": [
    "## English Pos-Tag Statistic (test)"
   ]
  },
  {
   "cell_type": "code",
   "execution_count": 48,
   "metadata": {},
   "outputs": [
    {
     "data": {
      "image/png": "[encoded data removed]",
      "text/plain": [
       "<matplotlib.figure.Figure at 0x7f3fc2a55290>"
      ]
     },
     "metadata": {},
     "output_type": "display_data"
    }
   ],
   "source": [
    "en_test_stat = pos_stat(en_test_tag_count)\n",
    "en_test_stat\n",
    "pos_plot(en_test_stat)"
   ]
  },
  {
   "cell_type": "markdown",
   "metadata": {},
   "source": [
    "## English Binary attribute Statistic (train)"
   ]
  },
  {
   "cell_type": "code",
   "execution_count": 60,
   "metadata": {},
   "outputs": [],
   "source": [
    "def bar_plot(data, column, title):\n",
    "    my_colors = list(islice(cycle(['b', 'r', 'g', 'y', 'k', 'black', 'orange', 'purple', 'gray']), None, len(data)))\n",
    "    data.plot(x=column, y='Norm', kind='bar', figsize=(5, 5), grid=True, title=title, legend=False, color=my_colors)\n",
    "    plt.show()\n",
    "\n",
    "def binary_attr_plot(attr_count):\n",
    "    binary_stat = {}\n",
    "    for attr in BINARY_ATTRIBUTES:\n",
    "        for k,v in attr_count.items():\n",
    "            if k.find(attr) != -1:\n",
    "                binary_stat[attr] = v \n",
    "    df = attr_stat(binary_stat)\n",
    "    print(df)\n",
    "    bar_plot(df, 'Attribute', 'Binary')\n",
    "    \n",
    "    "
   ]
  },
  {
   "cell_type": "code",
   "execution_count": 61,
   "metadata": {},
   "outputs": [
    {
     "name": "stdout",
     "output_type": "stream",
     "text": [
      "  Attribute  Count      Norm\n",
      "0    Reflex      4  0.012085\n",
      "1      Poss    318  0.960725\n",
      "2   Foreign      9  0.027190\n"
     ]
    },
    {
     "data": {
      "image/png": "[encoded data removed]",
      "text/plain": [
       "<matplotlib.figure.Figure at 0x7f3fc64b1d10>"
      ]
     },
     "metadata": {},
     "output_type": "display_data"
    }
   ],
   "source": [
    "binary_attr_plot(en_train_attr_count)"
   ]
  },
  {
   "cell_type": "markdown",
   "metadata": {},
   "source": [
    "## English Binary attribute Statistic (test)"
   ]
  },
  {
   "cell_type": "code",
   "execution_count": 62,
   "metadata": {},
   "outputs": [
    {
     "name": "stdout",
     "output_type": "stream",
     "text": [
      "  Attribute  Count      Norm\n",
      "0    Reflex    100  0.031807\n",
      "1      Poss   3026  0.962468\n",
      "2   Foreign     18  0.005725\n"
     ]
    },
    {
     "data": {
      "image/png": "[encoded data removed]",
      "text/plain": [
       "<matplotlib.figure.Figure at 0x7f3fc291d7d0>"
      ]
     },
     "metadata": {},
     "output_type": "display_data"
    }
   ],
   "source": [
    "binary_attr_plot(en_test_attr_count)"
   ]
  },
  {
   "cell_type": "markdown",
   "metadata": {},
   "source": [
    "## English Categorical attribute Statistic (train)"
   ]
  },
  {
   "cell_type": "code",
   "execution_count": 63,
   "metadata": {
    "collapsed": true
   },
   "outputs": [],
   "source": [
    "def categorical_attr_plot(attr_count):\n",
    "    attr_only_spec = {}\n",
    "    for attr in CATEGORICAL_ATTRIBUTES:\n",
    "        spec_dict = {}\n",
    "        for k,v in attr_count.items():\n",
    "            if k.find(attr) != -1:\n",
    "                new_key = k[k.find(':')+1:]\n",
    "                spec_dict[new_key] = v\n",
    "        if len(spec_dict) > 1:\n",
    "            attr_only_spec[attr] = spec_dict\n",
    "    for k,v in attr_only_spec.items():  \n",
    "        df = attr_stat(attr_only_spec[k])\n",
    "        print(k)\n",
    "        print(df)\n",
    "        bar_plot(df, 'Attribute', k)"
   ]
  },
  {
   "cell_type": "code",
   "execution_count": 64,
   "metadata": {},
   "outputs": [
    {
     "name": "stdout",
     "output_type": "stream",
     "text": [
      "Case\n",
      "  Attribute  Count      Norm\n",
      "0       Acc    264  0.186047\n",
      "1       Nom   1155  0.813953\n"
     ]
    },
    {
     "data": {
      "image/png": "[encoded data removed]",
      "text/plain": [
       "<matplotlib.figure.Figure at 0x7f3fba29d810>"
      ]
     },
     "metadata": {},
     "output_type": "display_data"
    },
    {
     "name": "stdout",
     "output_type": "stream",
     "text": [
      "Mood\n",
      "  Attribute  Count      Norm\n",
      "0       Ind   1826  0.914372\n",
      "1       Imp    171  0.085628\n"
     ]
    },
    {
     "data": {
      "image/png": "[encoded data removed]",
      "text/plain": [
       "<matplotlib.figure.Figure at 0x7f3fc2861350>"
      ]
     },
     "metadata": {},
     "output_type": "display_data"
    },
    {
     "name": "stdout",
     "output_type": "stream",
     "text": [
      "Gender\n",
      "  Attribute  Count      Norm\n",
      "0      Neut    223  0.579221\n",
      "1       Fem     40  0.103896\n",
      "2      Masc    122  0.316883\n"
     ]
    },
    {
     "data": {
      "image/png": "[encoded data removed]",
      "text/plain": [
       "<matplotlib.figure.Figure at 0x7f3fc0cac090>"
      ]
     },
     "metadata": {},
     "output_type": "display_data"
    },
    {
     "name": "stdout",
     "output_type": "stream",
     "text": [
      "Definite\n",
      "  Attribute  Count     Norm\n",
      "0       Ind    565  0.36736\n",
      "1       Def    973  0.63264\n"
     ]
    },
    {
     "data": {
      "image/png": "[encoded data removed]",
      "text/plain": [
       "<matplotlib.figure.Figure at 0x7f3fc2861050>"
      ]
     },
     "metadata": {},
     "output_type": "display_data"
    },
    {
     "name": "stdout",
     "output_type": "stream",
     "text": [
      "Number\n",
      "  Attribute  Count      Norm\n",
      "0      Sing   1951  0.836621\n",
      "1      Plur    381  0.163379\n"
     ]
    },
    {
     "data": {
      "image/png": "[encoded data removed]",
      "text/plain": [
       "<matplotlib.figure.Figure at 0x7f3fc422cf50>"
      ]
     },
     "metadata": {},
     "output_type": "display_data"
    },
    {
     "name": "stdout",
     "output_type": "stream",
     "text": [
      "Person\n",
      "  Attribute  Count      Norm\n",
      "0         1    861  0.350999\n",
      "1         3   1237  0.504280\n",
      "2         2    355  0.144721\n"
     ]
    },
    {
     "data": {
      "image/png": "[encoded data removed]",
      "text/plain": [
       "<matplotlib.figure.Figure at 0x7f3fc24532d0>"
      ]
     },
     "metadata": {},
     "output_type": "display_data"
    },
    {
     "name": "stdout",
     "output_type": "stream",
     "text": [
      "Tense\n",
      "  Attribute  Count      Norm\n",
      "0      Past    981  0.414624\n",
      "1      Pres   1385  0.585376\n"
     ]
    },
    {
     "data": {
      "image/png": "[encoded data removed]",
      "text/plain": [
       "<matplotlib.figure.Figure at 0x7f3fbd2a5990>"
      ]
     },
     "metadata": {},
     "output_type": "display_data"
    }
   ],
   "source": [
    "categorical_attr_plot(en_train_attr_count)"
   ]
  },
  {
   "cell_type": "markdown",
   "metadata": {},
   "source": [
    "## English Categorical attribute Statistic (test)"
   ]
  },
  {
   "cell_type": "code",
   "execution_count": 65,
   "metadata": {},
   "outputs": [
    {
     "name": "stdout",
     "output_type": "stream",
     "text": [
      "Case\n",
      "  Attribute  Count      Norm\n",
      "0       Acc   2622  0.217179\n",
      "1       Nom   9451  0.782821\n"
     ]
    },
    {
     "data": {
      "image/png": "[encoded data removed]",
      "text/plain": [
       "<matplotlib.figure.Figure at 0x7f3fc65f4490>"
      ]
     },
     "metadata": {},
     "output_type": "display_data"
    },
    {
     "name": "stdout",
     "output_type": "stream",
     "text": [
      "Mood\n",
      "  Attribute  Count      Norm\n",
      "0       Ind  15344  0.927298\n",
      "1       Imp   1203  0.072702\n"
     ]
    },
    {
     "data": {
      "image/png": "[encoded data removed]",
      "text/plain": [
       "<matplotlib.figure.Figure at 0x7f3fc294ac90>"
      ]
     },
     "metadata": {},
     "output_type": "display_data"
    },
    {
     "name": "stdout",
     "output_type": "stream",
     "text": [
      "Gender\n",
      "  Attribute  Count      Norm\n",
      "0      Neut   2022  0.501364\n",
      "1       Fem    491  0.121746\n",
      "2      Masc   1520  0.376891\n"
     ]
    },
    {
     "data": {
      "image/png": "[encoded data removed]",
      "text/plain": [
       "<matplotlib.figure.Figure at 0x7f3fc1ece290>"
      ]
     },
     "metadata": {},
     "output_type": "display_data"
    },
    {
     "name": "stdout",
     "output_type": "stream",
     "text": [
      "Definite\n",
      "  Attribute  Count      Norm\n",
      "0       Ind   4236  0.318496\n",
      "1       Def   9064  0.681504\n"
     ]
    },
    {
     "data": {
      "image/png": "[encoded data removed]",
      "text/plain": [
       "<matplotlib.figure.Figure at 0x7f3fba242490>"
      ]
     },
     "metadata": {},
     "output_type": "display_data"
    },
    {
     "name": "stdout",
     "output_type": "stream",
     "text": [
      "Number\n",
      "  Attribute  Count      Norm\n",
      "0      Sing  16615  0.819361\n",
      "1      Plur   3663  0.180639\n"
     ]
    },
    {
     "data": {
      "image/png": "[encoded data removed]",
      "text/plain": [
       "<matplotlib.figure.Figure at 0x7f3fc1fd0c90>"
      ]
     },
     "metadata": {},
     "output_type": "display_data"
    },
    {
     "name": "stdout",
     "output_type": "stream",
     "text": [
      "Person\n",
      "  Attribute  Count      Norm\n",
      "0         1   6657  0.314692\n",
      "1         3  11643  0.550392\n",
      "2         2   2854  0.134915\n"
     ]
    },
    {
     "data": {
      "image/png": "[encoded data removed]",
      "text/plain": [
       "<matplotlib.figure.Figure at 0x7f3fc36f7490>"
      ]
     },
     "metadata": {},
     "output_type": "display_data"
    },
    {
     "name": "stdout",
     "output_type": "stream",
     "text": [
      "Tense\n",
      "  Attribute  Count      Norm\n",
      "0      Past   9359  0.462584\n",
      "1      Pres  10873  0.537416\n"
     ]
    },
    {
     "data": {
      "image/png": "[encoded data removed]",
      "text/plain": [
       "<matplotlib.figure.Figure at 0x7f3fc20dad50>"
      ]
     },
     "metadata": {},
     "output_type": "display_data"
    }
   ],
   "source": [
    "categorical_attr_plot(en_test_attr_count)"
   ]
  },
  {
   "cell_type": "markdown",
   "metadata": {},
   "source": [
    "## English Universal Dependency Statistic (train)"
   ]
  },
  {
   "cell_type": "code",
   "execution_count": 72,
   "metadata": {
    "collapsed": true
   },
   "outputs": [],
   "source": [
    "def universal_dep_stat(dep_count):\n",
    "    df = pd.DataFrame([(lambda dep, count: {'Dep':dep, 'Count':count})(dep, count) for dep, count in dep_count.items()])\n",
    "    df['Norm'] = df.Count.apply(lambda x : float(x)/sum(df.Count))\n",
    "    df = df[['Dep', 'Count','Norm']]\n",
    "    return df.sort_values('Norm', ascending=False)\n",
    "\n",
    "def universal_dep_plot(dep_count):\n",
    "    dep_count.plot(x='Dep', y='Norm', kind='bar', figsize=(12, 6), legend=False, grid=True)\n",
    "    plt.show()"
   ]
  },
  {
   "cell_type": "code",
   "execution_count": 73,
   "metadata": {},
   "outputs": [
    {
     "data": {
      "text/html": [
       "<div>\n",
       "<table border=\"1\" class=\"dataframe\">\n",
       "  <thead>\n",
       "    <tr style=\"text-align: right;\">\n",
       "      <th></th>\n",
       "      <th>Dep</th>\n",
       "      <th>Count</th>\n",
       "      <th>Norm</th>\n",
       "    </tr>\n",
       "  </thead>\n",
       "  <tbody>\n",
       "    <tr>\n",
       "      <th>27</th>\n",
       "      <td>punct</td>\n",
       "      <td>3068</td>\n",
       "      <td>0.122251</td>\n",
       "    </tr>\n",
       "    <tr>\n",
       "      <th>46</th>\n",
       "      <td>root</td>\n",
       "      <td>2077</td>\n",
       "      <td>0.082762</td>\n",
       "    </tr>\n",
       "    <tr>\n",
       "      <th>32</th>\n",
       "      <td>case</td>\n",
       "      <td>1979</td>\n",
       "      <td>0.078857</td>\n",
       "    </tr>\n",
       "    <tr>\n",
       "      <th>21</th>\n",
       "      <td>nsubj</td>\n",
       "      <td>1975</td>\n",
       "      <td>0.078698</td>\n",
       "    </tr>\n",
       "    <tr>\n",
       "      <th>38</th>\n",
       "      <td>det</td>\n",
       "      <td>1831</td>\n",
       "      <td>0.072960</td>\n",
       "    </tr>\n",
       "    <tr>\n",
       "      <th>24</th>\n",
       "      <td>advmod</td>\n",
       "      <td>1283</td>\n",
       "      <td>0.051124</td>\n",
       "    </tr>\n",
       "    <tr>\n",
       "      <th>35</th>\n",
       "      <td>obj</td>\n",
       "      <td>1179</td>\n",
       "      <td>0.046980</td>\n",
       "    </tr>\n",
       "    <tr>\n",
       "      <th>41</th>\n",
       "      <td>amod</td>\n",
       "      <td>1173</td>\n",
       "      <td>0.046741</td>\n",
       "    </tr>\n",
       "    <tr>\n",
       "      <th>28</th>\n",
       "      <td>compound</td>\n",
       "      <td>1152</td>\n",
       "      <td>0.045904</td>\n",
       "    </tr>\n",
       "    <tr>\n",
       "      <th>34</th>\n",
       "      <td>obl</td>\n",
       "      <td>1055</td>\n",
       "      <td>0.042039</td>\n",
       "    </tr>\n",
       "    <tr>\n",
       "      <th>8</th>\n",
       "      <td>conj</td>\n",
       "      <td>864</td>\n",
       "      <td>0.034428</td>\n",
       "    </tr>\n",
       "    <tr>\n",
       "      <th>16</th>\n",
       "      <td>aux</td>\n",
       "      <td>826</td>\n",
       "      <td>0.032914</td>\n",
       "    </tr>\n",
       "    <tr>\n",
       "      <th>12</th>\n",
       "      <td>mark</td>\n",
       "      <td>782</td>\n",
       "      <td>0.031160</td>\n",
       "    </tr>\n",
       "    <tr>\n",
       "      <th>40</th>\n",
       "      <td>nmod</td>\n",
       "      <td>770</td>\n",
       "      <td>0.030682</td>\n",
       "    </tr>\n",
       "    <tr>\n",
       "      <th>0</th>\n",
       "      <td>cc</td>\n",
       "      <td>749</td>\n",
       "      <td>0.029845</td>\n",
       "    </tr>\n",
       "    <tr>\n",
       "      <th>33</th>\n",
       "      <td>cop</td>\n",
       "      <td>559</td>\n",
       "      <td>0.022274</td>\n",
       "    </tr>\n",
       "    <tr>\n",
       "      <th>30</th>\n",
       "      <td>nmod:poss</td>\n",
       "      <td>385</td>\n",
       "      <td>0.015341</td>\n",
       "    </tr>\n",
       "    <tr>\n",
       "      <th>15</th>\n",
       "      <td>advcl</td>\n",
       "      <td>374</td>\n",
       "      <td>0.014903</td>\n",
       "    </tr>\n",
       "    <tr>\n",
       "      <th>39</th>\n",
       "      <td>xcomp</td>\n",
       "      <td>351</td>\n",
       "      <td>0.013986</td>\n",
       "    </tr>\n",
       "    <tr>\n",
       "      <th>23</th>\n",
       "      <td>nummod</td>\n",
       "      <td>279</td>\n",
       "      <td>0.011117</td>\n",
       "    </tr>\n",
       "    <tr>\n",
       "      <th>1</th>\n",
       "      <td>list</td>\n",
       "      <td>251</td>\n",
       "      <td>0.010002</td>\n",
       "    </tr>\n",
       "    <tr>\n",
       "      <th>20</th>\n",
       "      <td>flat</td>\n",
       "      <td>249</td>\n",
       "      <td>0.009922</td>\n",
       "    </tr>\n",
       "    <tr>\n",
       "      <th>5</th>\n",
       "      <td>ccomp</td>\n",
       "      <td>238</td>\n",
       "      <td>0.009484</td>\n",
       "    </tr>\n",
       "    <tr>\n",
       "      <th>42</th>\n",
       "      <td>acl:relcl</td>\n",
       "      <td>218</td>\n",
       "      <td>0.008687</td>\n",
       "    </tr>\n",
       "    <tr>\n",
       "      <th>19</th>\n",
       "      <td>parataxis</td>\n",
       "      <td>205</td>\n",
       "      <td>0.008169</td>\n",
       "    </tr>\n",
       "    <tr>\n",
       "      <th>37</th>\n",
       "      <td>appos</td>\n",
       "      <td>186</td>\n",
       "      <td>0.007412</td>\n",
       "    </tr>\n",
       "    <tr>\n",
       "      <th>9</th>\n",
       "      <td>acl</td>\n",
       "      <td>173</td>\n",
       "      <td>0.006894</td>\n",
       "    </tr>\n",
       "    <tr>\n",
       "      <th>14</th>\n",
       "      <td>discourse</td>\n",
       "      <td>122</td>\n",
       "      <td>0.004861</td>\n",
       "    </tr>\n",
       "    <tr>\n",
       "      <th>25</th>\n",
       "      <td>aux:pass</td>\n",
       "      <td>116</td>\n",
       "      <td>0.004622</td>\n",
       "    </tr>\n",
       "    <tr>\n",
       "      <th>11</th>\n",
       "      <td>nsubj:pass</td>\n",
       "      <td>101</td>\n",
       "      <td>0.004025</td>\n",
       "    </tr>\n",
       "    <tr>\n",
       "      <th>29</th>\n",
       "      <td>compound:prt</td>\n",
       "      <td>89</td>\n",
       "      <td>0.003546</td>\n",
       "    </tr>\n",
       "    <tr>\n",
       "      <th>44</th>\n",
       "      <td>expl</td>\n",
       "      <td>66</td>\n",
       "      <td>0.002630</td>\n",
       "    </tr>\n",
       "    <tr>\n",
       "      <th>13</th>\n",
       "      <td>obl:tmod</td>\n",
       "      <td>66</td>\n",
       "      <td>0.002630</td>\n",
       "    </tr>\n",
       "    <tr>\n",
       "      <th>45</th>\n",
       "      <td>fixed</td>\n",
       "      <td>62</td>\n",
       "      <td>0.002471</td>\n",
       "    </tr>\n",
       "    <tr>\n",
       "      <th>26</th>\n",
       "      <td>obl:npmod</td>\n",
       "      <td>48</td>\n",
       "      <td>0.001913</td>\n",
       "    </tr>\n",
       "    <tr>\n",
       "      <th>43</th>\n",
       "      <td>iobj</td>\n",
       "      <td>41</td>\n",
       "      <td>0.001634</td>\n",
       "    </tr>\n",
       "    <tr>\n",
       "      <th>4</th>\n",
       "      <td>nmod:tmod</td>\n",
       "      <td>37</td>\n",
       "      <td>0.001474</td>\n",
       "    </tr>\n",
       "    <tr>\n",
       "      <th>7</th>\n",
       "      <td>csubj</td>\n",
       "      <td>23</td>\n",
       "      <td>0.000916</td>\n",
       "    </tr>\n",
       "    <tr>\n",
       "      <th>18</th>\n",
       "      <td>det:predet</td>\n",
       "      <td>22</td>\n",
       "      <td>0.000877</td>\n",
       "    </tr>\n",
       "    <tr>\n",
       "      <th>10</th>\n",
       "      <td>vocative</td>\n",
       "      <td>21</td>\n",
       "      <td>0.000837</td>\n",
       "    </tr>\n",
       "    <tr>\n",
       "      <th>31</th>\n",
       "      <td>goeswith</td>\n",
       "      <td>16</td>\n",
       "      <td>0.000638</td>\n",
       "    </tr>\n",
       "    <tr>\n",
       "      <th>22</th>\n",
       "      <td>nmod:npmod</td>\n",
       "      <td>13</td>\n",
       "      <td>0.000518</td>\n",
       "    </tr>\n",
       "    <tr>\n",
       "      <th>2</th>\n",
       "      <td>cc:preconj</td>\n",
       "      <td>9</td>\n",
       "      <td>0.000359</td>\n",
       "    </tr>\n",
       "    <tr>\n",
       "      <th>6</th>\n",
       "      <td>flat:foreign</td>\n",
       "      <td>7</td>\n",
       "      <td>0.000279</td>\n",
       "    </tr>\n",
       "    <tr>\n",
       "      <th>47</th>\n",
       "      <td>reparandum</td>\n",
       "      <td>3</td>\n",
       "      <td>0.000120</td>\n",
       "    </tr>\n",
       "    <tr>\n",
       "      <th>3</th>\n",
       "      <td>orphan</td>\n",
       "      <td>1</td>\n",
       "      <td>0.000040</td>\n",
       "    </tr>\n",
       "    <tr>\n",
       "      <th>36</th>\n",
       "      <td>dep</td>\n",
       "      <td>1</td>\n",
       "      <td>0.000040</td>\n",
       "    </tr>\n",
       "    <tr>\n",
       "      <th>17</th>\n",
       "      <td>csubj:pass</td>\n",
       "      <td>1</td>\n",
       "      <td>0.000040</td>\n",
       "    </tr>\n",
       "  </tbody>\n",
       "</table>\n",
       "</div>"
      ],
      "text/plain": [
       "             Dep  Count      Norm\n",
       "27         punct   3068  0.122251\n",
       "46          root   2077  0.082762\n",
       "32          case   1979  0.078857\n",
       "21         nsubj   1975  0.078698\n",
       "38           det   1831  0.072960\n",
       "24        advmod   1283  0.051124\n",
       "35           obj   1179  0.046980\n",
       "41          amod   1173  0.046741\n",
       "28      compound   1152  0.045904\n",
       "34           obl   1055  0.042039\n",
       "8           conj    864  0.034428\n",
       "16           aux    826  0.032914\n",
       "12          mark    782  0.031160\n",
       "40          nmod    770  0.030682\n",
       "0             cc    749  0.029845\n",
       "33           cop    559  0.022274\n",
       "30     nmod:poss    385  0.015341\n",
       "15         advcl    374  0.014903\n",
       "39         xcomp    351  0.013986\n",
       "23        nummod    279  0.011117\n",
       "1           list    251  0.010002\n",
       "20          flat    249  0.009922\n",
       "5          ccomp    238  0.009484\n",
       "42     acl:relcl    218  0.008687\n",
       "19     parataxis    205  0.008169\n",
       "37         appos    186  0.007412\n",
       "9            acl    173  0.006894\n",
       "14     discourse    122  0.004861\n",
       "25      aux:pass    116  0.004622\n",
       "11    nsubj:pass    101  0.004025\n",
       "29  compound:prt     89  0.003546\n",
       "44          expl     66  0.002630\n",
       "13      obl:tmod     66  0.002630\n",
       "45         fixed     62  0.002471\n",
       "26     obl:npmod     48  0.001913\n",
       "43          iobj     41  0.001634\n",
       "4      nmod:tmod     37  0.001474\n",
       "7          csubj     23  0.000916\n",
       "18    det:predet     22  0.000877\n",
       "10      vocative     21  0.000837\n",
       "31      goeswith     16  0.000638\n",
       "22    nmod:npmod     13  0.000518\n",
       "2     cc:preconj      9  0.000359\n",
       "6   flat:foreign      7  0.000279\n",
       "47    reparandum      3  0.000120\n",
       "3         orphan      1  0.000040\n",
       "36           dep      1  0.000040\n",
       "17    csubj:pass      1  0.000040"
      ]
     },
     "execution_count": 73,
     "metadata": {},
     "output_type": "execute_result"
    }
   ],
   "source": [
    "en_train_dep = universal_dep_stat(en_train_dep_count)\n",
    "en_train_dep"
   ]
  },
  {
   "cell_type": "code",
   "execution_count": 74,
   "metadata": {},
   "outputs": [
    {
     "data": {
      "image/png": "[encoded data removed]",
      "text/plain": [
       "<matplotlib.figure.Figure at 0x7f3fba653050>"
      ]
     },
     "metadata": {},
     "output_type": "display_data"
    }
   ],
   "source": [
    "universal_dep_plot(en_train_dep)"
   ]
  },
  {
   "cell_type": "markdown",
   "metadata": {},
   "source": [
    "## English Universal Dependency Statistic (test)¶"
   ]
  },
  {
   "cell_type": "code",
   "execution_count": 76,
   "metadata": {},
   "outputs": [
    {
     "data": {
      "text/html": [
       "<div>\n",
       "<table border=\"1\" class=\"dataframe\">\n",
       "  <thead>\n",
       "    <tr style=\"text-align: right;\">\n",
       "      <th></th>\n",
       "      <th>Dep</th>\n",
       "      <th>Count</th>\n",
       "      <th>Norm</th>\n",
       "    </tr>\n",
       "  </thead>\n",
       "  <tbody>\n",
       "    <tr>\n",
       "      <th>28</th>\n",
       "      <td>punct</td>\n",
       "      <td>23596</td>\n",
       "      <td>0.115336</td>\n",
       "    </tr>\n",
       "    <tr>\n",
       "      <th>33</th>\n",
       "      <td>case</td>\n",
       "      <td>17448</td>\n",
       "      <td>0.085285</td>\n",
       "    </tr>\n",
       "    <tr>\n",
       "      <th>22</th>\n",
       "      <td>nsubj</td>\n",
       "      <td>16256</td>\n",
       "      <td>0.079458</td>\n",
       "    </tr>\n",
       "    <tr>\n",
       "      <th>39</th>\n",
       "      <td>det</td>\n",
       "      <td>15753</td>\n",
       "      <td>0.077000</td>\n",
       "    </tr>\n",
       "    <tr>\n",
       "      <th>47</th>\n",
       "      <td>root</td>\n",
       "      <td>12543</td>\n",
       "      <td>0.061309</td>\n",
       "    </tr>\n",
       "    <tr>\n",
       "      <th>25</th>\n",
       "      <td>advmod</td>\n",
       "      <td>10947</td>\n",
       "      <td>0.053508</td>\n",
       "    </tr>\n",
       "    <tr>\n",
       "      <th>36</th>\n",
       "      <td>obj</td>\n",
       "      <td>10189</td>\n",
       "      <td>0.049803</td>\n",
       "    </tr>\n",
       "    <tr>\n",
       "      <th>35</th>\n",
       "      <td>obl</td>\n",
       "      <td>9155</td>\n",
       "      <td>0.044749</td>\n",
       "    </tr>\n",
       "    <tr>\n",
       "      <th>42</th>\n",
       "      <td>amod</td>\n",
       "      <td>9062</td>\n",
       "      <td>0.044295</td>\n",
       "    </tr>\n",
       "    <tr>\n",
       "      <th>29</th>\n",
       "      <td>compound</td>\n",
       "      <td>8204</td>\n",
       "      <td>0.040101</td>\n",
       "    </tr>\n",
       "    <tr>\n",
       "      <th>8</th>\n",
       "      <td>conj</td>\n",
       "      <td>7568</td>\n",
       "      <td>0.036992</td>\n",
       "    </tr>\n",
       "    <tr>\n",
       "      <th>12</th>\n",
       "      <td>mark</td>\n",
       "      <td>7479</td>\n",
       "      <td>0.036557</td>\n",
       "    </tr>\n",
       "    <tr>\n",
       "      <th>41</th>\n",
       "      <td>nmod</td>\n",
       "      <td>6913</td>\n",
       "      <td>0.033790</td>\n",
       "    </tr>\n",
       "    <tr>\n",
       "      <th>0</th>\n",
       "      <td>cc</td>\n",
       "      <td>6783</td>\n",
       "      <td>0.033155</td>\n",
       "    </tr>\n",
       "    <tr>\n",
       "      <th>17</th>\n",
       "      <td>aux</td>\n",
       "      <td>6514</td>\n",
       "      <td>0.031840</td>\n",
       "    </tr>\n",
       "    <tr>\n",
       "      <th>34</th>\n",
       "      <td>cop</td>\n",
       "      <td>4461</td>\n",
       "      <td>0.021805</td>\n",
       "    </tr>\n",
       "    <tr>\n",
       "      <th>15</th>\n",
       "      <td>advcl</td>\n",
       "      <td>3846</td>\n",
       "      <td>0.018799</td>\n",
       "    </tr>\n",
       "    <tr>\n",
       "      <th>31</th>\n",
       "      <td>nmod:poss</td>\n",
       "      <td>3672</td>\n",
       "      <td>0.017949</td>\n",
       "    </tr>\n",
       "    <tr>\n",
       "      <th>40</th>\n",
       "      <td>xcomp</td>\n",
       "      <td>3018</td>\n",
       "      <td>0.014752</td>\n",
       "    </tr>\n",
       "    <tr>\n",
       "      <th>24</th>\n",
       "      <td>nummod</td>\n",
       "      <td>2539</td>\n",
       "      <td>0.012410</td>\n",
       "    </tr>\n",
       "    <tr>\n",
       "      <th>5</th>\n",
       "      <td>ccomp</td>\n",
       "      <td>2389</td>\n",
       "      <td>0.011677</td>\n",
       "    </tr>\n",
       "    <tr>\n",
       "      <th>43</th>\n",
       "      <td>acl:relcl</td>\n",
       "      <td>2005</td>\n",
       "      <td>0.009800</td>\n",
       "    </tr>\n",
       "    <tr>\n",
       "      <th>38</th>\n",
       "      <td>appos</td>\n",
       "      <td>1567</td>\n",
       "      <td>0.007659</td>\n",
       "    </tr>\n",
       "    <tr>\n",
       "      <th>9</th>\n",
       "      <td>acl</td>\n",
       "      <td>1475</td>\n",
       "      <td>0.007210</td>\n",
       "    </tr>\n",
       "    <tr>\n",
       "      <th>21</th>\n",
       "      <td>flat</td>\n",
       "      <td>1442</td>\n",
       "      <td>0.007048</td>\n",
       "    </tr>\n",
       "    <tr>\n",
       "      <th>20</th>\n",
       "      <td>parataxis</td>\n",
       "      <td>1433</td>\n",
       "      <td>0.007004</td>\n",
       "    </tr>\n",
       "    <tr>\n",
       "      <th>26</th>\n",
       "      <td>aux:pass</td>\n",
       "      <td>1364</td>\n",
       "      <td>0.006667</td>\n",
       "    </tr>\n",
       "    <tr>\n",
       "      <th>11</th>\n",
       "      <td>nsubj:pass</td>\n",
       "      <td>1146</td>\n",
       "      <td>0.005602</td>\n",
       "    </tr>\n",
       "    <tr>\n",
       "      <th>30</th>\n",
       "      <td>compound:prt</td>\n",
       "      <td>746</td>\n",
       "      <td>0.003646</td>\n",
       "    </tr>\n",
       "    <tr>\n",
       "      <th>14</th>\n",
       "      <td>discourse</td>\n",
       "      <td>702</td>\n",
       "      <td>0.003431</td>\n",
       "    </tr>\n",
       "    <tr>\n",
       "      <th>45</th>\n",
       "      <td>expl</td>\n",
       "      <td>587</td>\n",
       "      <td>0.002869</td>\n",
       "    </tr>\n",
       "    <tr>\n",
       "      <th>13</th>\n",
       "      <td>obl:tmod</td>\n",
       "      <td>550</td>\n",
       "      <td>0.002688</td>\n",
       "    </tr>\n",
       "    <tr>\n",
       "      <th>46</th>\n",
       "      <td>fixed</td>\n",
       "      <td>493</td>\n",
       "      <td>0.002410</td>\n",
       "    </tr>\n",
       "    <tr>\n",
       "      <th>1</th>\n",
       "      <td>list</td>\n",
       "      <td>461</td>\n",
       "      <td>0.002253</td>\n",
       "    </tr>\n",
       "    <tr>\n",
       "      <th>27</th>\n",
       "      <td>obl:npmod</td>\n",
       "      <td>460</td>\n",
       "      <td>0.002248</td>\n",
       "    </tr>\n",
       "    <tr>\n",
       "      <th>44</th>\n",
       "      <td>iobj</td>\n",
       "      <td>375</td>\n",
       "      <td>0.001833</td>\n",
       "    </tr>\n",
       "    <tr>\n",
       "      <th>4</th>\n",
       "      <td>nmod:tmod</td>\n",
       "      <td>288</td>\n",
       "      <td>0.001408</td>\n",
       "    </tr>\n",
       "    <tr>\n",
       "      <th>7</th>\n",
       "      <td>csubj</td>\n",
       "      <td>276</td>\n",
       "      <td>0.001349</td>\n",
       "    </tr>\n",
       "    <tr>\n",
       "      <th>32</th>\n",
       "      <td>goeswith</td>\n",
       "      <td>265</td>\n",
       "      <td>0.001295</td>\n",
       "    </tr>\n",
       "    <tr>\n",
       "      <th>19</th>\n",
       "      <td>det:predet</td>\n",
       "      <td>165</td>\n",
       "      <td>0.000807</td>\n",
       "    </tr>\n",
       "    <tr>\n",
       "      <th>23</th>\n",
       "      <td>nmod:npmod</td>\n",
       "      <td>146</td>\n",
       "      <td>0.000714</td>\n",
       "    </tr>\n",
       "    <tr>\n",
       "      <th>10</th>\n",
       "      <td>vocative</td>\n",
       "      <td>122</td>\n",
       "      <td>0.000596</td>\n",
       "    </tr>\n",
       "    <tr>\n",
       "      <th>2</th>\n",
       "      <td>cc:preconj</td>\n",
       "      <td>103</td>\n",
       "      <td>0.000503</td>\n",
       "    </tr>\n",
       "    <tr>\n",
       "      <th>48</th>\n",
       "      <td>reparandum</td>\n",
       "      <td>29</td>\n",
       "      <td>0.000142</td>\n",
       "    </tr>\n",
       "    <tr>\n",
       "      <th>3</th>\n",
       "      <td>orphan</td>\n",
       "      <td>23</td>\n",
       "      <td>0.000112</td>\n",
       "    </tr>\n",
       "    <tr>\n",
       "      <th>6</th>\n",
       "      <td>flat:foreign</td>\n",
       "      <td>12</td>\n",
       "      <td>0.000059</td>\n",
       "    </tr>\n",
       "    <tr>\n",
       "      <th>37</th>\n",
       "      <td>dep</td>\n",
       "      <td>8</td>\n",
       "      <td>0.000039</td>\n",
       "    </tr>\n",
       "    <tr>\n",
       "      <th>18</th>\n",
       "      <td>csubj:pass</td>\n",
       "      <td>5</td>\n",
       "      <td>0.000024</td>\n",
       "    </tr>\n",
       "    <tr>\n",
       "      <th>16</th>\n",
       "      <td>dislocated</td>\n",
       "      <td>2</td>\n",
       "      <td>0.000010</td>\n",
       "    </tr>\n",
       "  </tbody>\n",
       "</table>\n",
       "</div>"
      ],
      "text/plain": [
       "             Dep  Count      Norm\n",
       "28         punct  23596  0.115336\n",
       "33          case  17448  0.085285\n",
       "22         nsubj  16256  0.079458\n",
       "39           det  15753  0.077000\n",
       "47          root  12543  0.061309\n",
       "25        advmod  10947  0.053508\n",
       "36           obj  10189  0.049803\n",
       "35           obl   9155  0.044749\n",
       "42          amod   9062  0.044295\n",
       "29      compound   8204  0.040101\n",
       "8           conj   7568  0.036992\n",
       "12          mark   7479  0.036557\n",
       "41          nmod   6913  0.033790\n",
       "0             cc   6783  0.033155\n",
       "17           aux   6514  0.031840\n",
       "34           cop   4461  0.021805\n",
       "15         advcl   3846  0.018799\n",
       "31     nmod:poss   3672  0.017949\n",
       "40         xcomp   3018  0.014752\n",
       "24        nummod   2539  0.012410\n",
       "5          ccomp   2389  0.011677\n",
       "43     acl:relcl   2005  0.009800\n",
       "38         appos   1567  0.007659\n",
       "9            acl   1475  0.007210\n",
       "21          flat   1442  0.007048\n",
       "20     parataxis   1433  0.007004\n",
       "26      aux:pass   1364  0.006667\n",
       "11    nsubj:pass   1146  0.005602\n",
       "30  compound:prt    746  0.003646\n",
       "14     discourse    702  0.003431\n",
       "45          expl    587  0.002869\n",
       "13      obl:tmod    550  0.002688\n",
       "46         fixed    493  0.002410\n",
       "1           list    461  0.002253\n",
       "27     obl:npmod    460  0.002248\n",
       "44          iobj    375  0.001833\n",
       "4      nmod:tmod    288  0.001408\n",
       "7          csubj    276  0.001349\n",
       "32      goeswith    265  0.001295\n",
       "19    det:predet    165  0.000807\n",
       "23    nmod:npmod    146  0.000714\n",
       "10      vocative    122  0.000596\n",
       "2     cc:preconj    103  0.000503\n",
       "48    reparandum     29  0.000142\n",
       "3         orphan     23  0.000112\n",
       "6   flat:foreign     12  0.000059\n",
       "37           dep      8  0.000039\n",
       "18    csubj:pass      5  0.000024\n",
       "16    dislocated      2  0.000010"
      ]
     },
     "execution_count": 76,
     "metadata": {},
     "output_type": "execute_result"
    }
   ],
   "source": [
    "en_test_dep = universal_dep_stat(en_test_dep_count)\n",
    "en_test_dep"
   ]
  },
  {
   "cell_type": "code",
   "execution_count": 77,
   "metadata": {},
   "outputs": [
    {
     "data": {
      "image/png": "[encoded data removed]",
      "text/plain": [
       "<matplotlib.figure.Figure at 0x7f3fc2a1a110>"
      ]
     },
     "metadata": {},
     "output_type": "display_data"
    }
   ],
   "source": [
    "universal_dep_plot(en_test_dep)"
   ]
  },
  {
   "cell_type": "markdown",
   "metadata": {},
   "source": [
    "### Gothic language\n",
    "\n",
    "Морфологический тип: \n",
    "Флективный - основной грамматический способ – аффиксация, причём использование не только внешней, но и внутренней флексии; флексии многозначны.\n",
    "\n",
    "Accuracy (POS) :\n",
    "```\n",
    "INFO:tensorflow:num correct tokens: 9392\n",
    "INFO:tensorflow:total tokens: 10182\n",
    "INFO:tensorflow:Seconds elapsed in evaluation: 34.26, eval metric: 92.24%\n",
    "```"
   ]
  },
  {
   "cell_type": "markdown",
   "metadata": {},
   "source": [
    "### Gothic LAS and UAS"
   ]
  },
  {
   "cell_type": "code",
   "execution_count": 80,
   "metadata": {},
   "outputs": [
    {
     "name": "stdout",
     "output_type": "stream",
     "text": [
      "LAS: 0.922412099784, UAS: 0.62639952858\n"
     ]
    }
   ],
   "source": [
    "gold_file = '/data/UD_Gothic/got-ud-test.conllu'\n",
    "parsed_file = '/output/go-with-tagger.conll'\n",
    "las, uas = calc_las_and_uas(parsed_file, gold_file)\n",
    "print('LAS: {}, UAS: {}'.format(las, uas))"
   ]
  },
  {
   "cell_type": "markdown",
   "metadata": {},
   "source": [
    "### Часть II: языковая статистика по результатам прогона SyntaxNet"
   ]
  },
  {
   "cell_type": "code",
   "execution_count": 83,
   "metadata": {},
   "outputs": [],
   "source": [
    "got_train = '/data/UD_Gothic/got-ud-test.conllu'\n",
    "got_test ='/data/UD_Gothic/got-ud-train.conllu'\n",
    "\n",
    "# Info for train data\n",
    "got_train_token_count, got_train_word_count, got_train_tag_count, got_train_attr_count, got_train_dep_count =parse_conll(got_train)\n",
    "# Info for test data\n",
    "got_test_token_count, got_test_word_count, got_test_tag_count, got_test_attr_count, got_test_dep_count = parse_conll(got_test)"
   ]
  },
  {
   "cell_type": "markdown",
   "metadata": {},
   "source": [
    "## Gothic Pos-Tag Statistic (train)"
   ]
  },
  {
   "cell_type": "code",
   "execution_count": 85,
   "metadata": {},
   "outputs": [
    {
     "data": {
      "text/html": [
       "<div>\n",
       "<table border=\"1\" class=\"dataframe\">\n",
       "  <thead>\n",
       "    <tr style=\"text-align: right;\">\n",
       "      <th></th>\n",
       "      <th>PoS</th>\n",
       "      <th>Count</th>\n",
       "      <th>CountNormalize</th>\n",
       "    </tr>\n",
       "  </thead>\n",
       "  <tbody>\n",
       "    <tr>\n",
       "      <th>8</th>\n",
       "      <td>VERB</td>\n",
       "      <td>2451</td>\n",
       "      <td>0.240719</td>\n",
       "    </tr>\n",
       "    <tr>\n",
       "      <th>1</th>\n",
       "      <td>NOUN</td>\n",
       "      <td>1799</td>\n",
       "      <td>0.176684</td>\n",
       "    </tr>\n",
       "    <tr>\n",
       "      <th>7</th>\n",
       "      <td>PRON</td>\n",
       "      <td>1106</td>\n",
       "      <td>0.108623</td>\n",
       "    </tr>\n",
       "    <tr>\n",
       "      <th>0</th>\n",
       "      <td>ADV</td>\n",
       "      <td>957</td>\n",
       "      <td>0.093989</td>\n",
       "    </tr>\n",
       "    <tr>\n",
       "      <th>11</th>\n",
       "      <td>CCONJ</td>\n",
       "      <td>931</td>\n",
       "      <td>0.091436</td>\n",
       "    </tr>\n",
       "    <tr>\n",
       "      <th>2</th>\n",
       "      <td>ADP</td>\n",
       "      <td>863</td>\n",
       "      <td>0.084757</td>\n",
       "    </tr>\n",
       "    <tr>\n",
       "      <th>13</th>\n",
       "      <td>ADJ</td>\n",
       "      <td>794</td>\n",
       "      <td>0.077981</td>\n",
       "    </tr>\n",
       "    <tr>\n",
       "      <th>5</th>\n",
       "      <td>DET</td>\n",
       "      <td>479</td>\n",
       "      <td>0.047044</td>\n",
       "    </tr>\n",
       "    <tr>\n",
       "      <th>4</th>\n",
       "      <td>PROPN</td>\n",
       "      <td>352</td>\n",
       "      <td>0.034571</td>\n",
       "    </tr>\n",
       "    <tr>\n",
       "      <th>3</th>\n",
       "      <td>SCONJ</td>\n",
       "      <td>289</td>\n",
       "      <td>0.028383</td>\n",
       "    </tr>\n",
       "    <tr>\n",
       "      <th>12</th>\n",
       "      <td>NUM</td>\n",
       "      <td>81</td>\n",
       "      <td>0.007955</td>\n",
       "    </tr>\n",
       "    <tr>\n",
       "      <th>6</th>\n",
       "      <td>INTJ</td>\n",
       "      <td>47</td>\n",
       "      <td>0.004616</td>\n",
       "    </tr>\n",
       "    <tr>\n",
       "      <th>10</th>\n",
       "      <td>AUX</td>\n",
       "      <td>26</td>\n",
       "      <td>0.002554</td>\n",
       "    </tr>\n",
       "    <tr>\n",
       "      <th>9</th>\n",
       "      <td>X</td>\n",
       "      <td>7</td>\n",
       "      <td>0.000687</td>\n",
       "    </tr>\n",
       "  </tbody>\n",
       "</table>\n",
       "</div>"
      ],
      "text/plain": [
       "      PoS  Count  CountNormalize\n",
       "8    VERB   2451        0.240719\n",
       "1    NOUN   1799        0.176684\n",
       "7    PRON   1106        0.108623\n",
       "0     ADV    957        0.093989\n",
       "11  CCONJ    931        0.091436\n",
       "2     ADP    863        0.084757\n",
       "13    ADJ    794        0.077981\n",
       "5     DET    479        0.047044\n",
       "4   PROPN    352        0.034571\n",
       "3   SCONJ    289        0.028383\n",
       "12    NUM     81        0.007955\n",
       "6    INTJ     47        0.004616\n",
       "10    AUX     26        0.002554\n",
       "9       X      7        0.000687"
      ]
     },
     "execution_count": 85,
     "metadata": {},
     "output_type": "execute_result"
    }
   ],
   "source": [
    "got_train_stat = pos_stat(got_train_tag_count)\n",
    "got_train_stat"
   ]
  },
  {
   "cell_type": "markdown",
   "metadata": {},
   "source": [
    "## Gothic Pos-Tag Statistic (train)"
   ]
  },
  {
   "cell_type": "code",
   "execution_count": 86,
   "metadata": {},
   "outputs": [
    {
     "data": {
      "image/png": "[encoded data removed]",
      "text/plain": [
       "<matplotlib.figure.Figure at 0x7f3fc6698750>"
      ]
     },
     "metadata": {},
     "output_type": "display_data"
    }
   ],
   "source": [
    "pos_plot(got_train_stat)"
   ]
  },
  {
   "cell_type": "markdown",
   "metadata": {},
   "source": [
    "## Gothic Pos-Tag Statistic (test)"
   ]
  },
  {
   "cell_type": "code",
   "execution_count": 87,
   "metadata": {},
   "outputs": [
    {
     "data": {
      "text/html": [
       "<div>\n",
       "<table border=\"1\" class=\"dataframe\">\n",
       "  <thead>\n",
       "    <tr style=\"text-align: right;\">\n",
       "      <th></th>\n",
       "      <th>PoS</th>\n",
       "      <th>Count</th>\n",
       "      <th>CountNormalize</th>\n",
       "    </tr>\n",
       "  </thead>\n",
       "  <tbody>\n",
       "    <tr>\n",
       "      <th>8</th>\n",
       "      <td>VERB</td>\n",
       "      <td>7913</td>\n",
       "      <td>0.225931</td>\n",
       "    </tr>\n",
       "    <tr>\n",
       "      <th>1</th>\n",
       "      <td>NOUN</td>\n",
       "      <td>6618</td>\n",
       "      <td>0.188956</td>\n",
       "    </tr>\n",
       "    <tr>\n",
       "      <th>7</th>\n",
       "      <td>PRON</td>\n",
       "      <td>3547</td>\n",
       "      <td>0.101273</td>\n",
       "    </tr>\n",
       "    <tr>\n",
       "      <th>0</th>\n",
       "      <td>ADV</td>\n",
       "      <td>3276</td>\n",
       "      <td>0.093536</td>\n",
       "    </tr>\n",
       "    <tr>\n",
       "      <th>11</th>\n",
       "      <td>CCONJ</td>\n",
       "      <td>3204</td>\n",
       "      <td>0.091480</td>\n",
       "    </tr>\n",
       "    <tr>\n",
       "      <th>2</th>\n",
       "      <td>ADP</td>\n",
       "      <td>3139</td>\n",
       "      <td>0.089624</td>\n",
       "    </tr>\n",
       "    <tr>\n",
       "      <th>13</th>\n",
       "      <td>ADJ</td>\n",
       "      <td>3114</td>\n",
       "      <td>0.088910</td>\n",
       "    </tr>\n",
       "    <tr>\n",
       "      <th>5</th>\n",
       "      <td>DET</td>\n",
       "      <td>1527</td>\n",
       "      <td>0.043599</td>\n",
       "    </tr>\n",
       "    <tr>\n",
       "      <th>4</th>\n",
       "      <td>PROPN</td>\n",
       "      <td>1185</td>\n",
       "      <td>0.033834</td>\n",
       "    </tr>\n",
       "    <tr>\n",
       "      <th>3</th>\n",
       "      <td>SCONJ</td>\n",
       "      <td>1059</td>\n",
       "      <td>0.030236</td>\n",
       "    </tr>\n",
       "    <tr>\n",
       "      <th>12</th>\n",
       "      <td>NUM</td>\n",
       "      <td>247</td>\n",
       "      <td>0.007052</td>\n",
       "    </tr>\n",
       "    <tr>\n",
       "      <th>6</th>\n",
       "      <td>INTJ</td>\n",
       "      <td>128</td>\n",
       "      <td>0.003655</td>\n",
       "    </tr>\n",
       "    <tr>\n",
       "      <th>10</th>\n",
       "      <td>AUX</td>\n",
       "      <td>58</td>\n",
       "      <td>0.001656</td>\n",
       "    </tr>\n",
       "    <tr>\n",
       "      <th>9</th>\n",
       "      <td>X</td>\n",
       "      <td>9</td>\n",
       "      <td>0.000257</td>\n",
       "    </tr>\n",
       "  </tbody>\n",
       "</table>\n",
       "</div>"
      ],
      "text/plain": [
       "      PoS  Count  CountNormalize\n",
       "8    VERB   7913        0.225931\n",
       "1    NOUN   6618        0.188956\n",
       "7    PRON   3547        0.101273\n",
       "0     ADV   3276        0.093536\n",
       "11  CCONJ   3204        0.091480\n",
       "2     ADP   3139        0.089624\n",
       "13    ADJ   3114        0.088910\n",
       "5     DET   1527        0.043599\n",
       "4   PROPN   1185        0.033834\n",
       "3   SCONJ   1059        0.030236\n",
       "12    NUM    247        0.007052\n",
       "6    INTJ    128        0.003655\n",
       "10    AUX     58        0.001656\n",
       "9       X      9        0.000257"
      ]
     },
     "execution_count": 87,
     "metadata": {},
     "output_type": "execute_result"
    }
   ],
   "source": [
    "got_test_stat = pos_stat(got_test_tag_count)\n",
    "got_test_stat"
   ]
  },
  {
   "cell_type": "code",
   "execution_count": 88,
   "metadata": {},
   "outputs": [
    {
     "data": {
      "image/png": "[encoded data removed]",
      "text/plain": [
       "<matplotlib.figure.Figure at 0x7f3fc1fbe150>"
      ]
     },
     "metadata": {},
     "output_type": "display_data"
    }
   ],
   "source": [
    "pos_plot(got_test_stat)"
   ]
  },
  {
   "cell_type": "markdown",
   "metadata": {},
   "source": [
    "## Gothic Binary attribute Statistic (train)"
   ]
  },
  {
   "cell_type": "code",
   "execution_count": 89,
   "metadata": {},
   "outputs": [
    {
     "name": "stdout",
     "output_type": "stream",
     "text": [
      "  Attribute  Count      Norm\n",
      "0    Reflex    111  0.371237\n",
      "1      Poss    188  0.628763\n"
     ]
    },
    {
     "data": {
      "image/png": "[encoded data removed]",
      "text/plain": [
       "<matplotlib.figure.Figure at 0x7f3fc1fcdc90>"
      ]
     },
     "metadata": {},
     "output_type": "display_data"
    }
   ],
   "source": [
    "binary_attr_plot(got_train_attr_count)"
   ]
  },
  {
   "cell_type": "markdown",
   "metadata": {},
   "source": [
    "## Gothic Binary attribute Statistic (test)"
   ]
  },
  {
   "cell_type": "code",
   "execution_count": 90,
   "metadata": {},
   "outputs": [
    {
     "name": "stdout",
     "output_type": "stream",
     "text": [
      "  Attribute  Count      Norm\n",
      "0    Reflex    281  0.282696\n",
      "1      Poss    713  0.717304\n"
     ]
    },
    {
     "data": {
      "image/png": "[encoded data removed]",
      "text/plain": [
       "<matplotlib.figure.Figure at 0x7f3fbd2ac890>"
      ]
     },
     "metadata": {},
     "output_type": "display_data"
    }
   ],
   "source": [
    "binary_attr_plot(got_test_attr_count)"
   ]
  },
  {
   "cell_type": "markdown",
   "metadata": {},
   "source": [
    "## Gothic Categorical attribute Statistic (train)"
   ]
  },
  {
   "cell_type": "code",
   "execution_count": 91,
   "metadata": {},
   "outputs": [
    {
     "name": "stdout",
     "output_type": "stream",
     "text": [
      "Case\n",
      "  Attribute  Count      Norm\n",
      "0       Dat   1338  0.260717\n",
      "1       Acc   1375  0.267927\n",
      "2       Voc     68  0.013250\n",
      "3       Gen    586  0.114186\n",
      "4       Nom   1765  0.343920\n"
     ]
    },
    {
     "data": {
      "image/png": "[encoded data removed]",
      "text/plain": [
       "<matplotlib.figure.Figure at 0x7f3fbf461390>"
      ]
     },
     "metadata": {},
     "output_type": "display_data"
    },
    {
     "name": "stdout",
     "output_type": "stream",
     "text": [
      "Mood\n",
      "  Attribute  Count      Norm\n",
      "0       Ind   1432  0.820160\n",
      "1       Imp     89  0.050974\n",
      "2       Opt    225  0.128866\n"
     ]
    },
    {
     "data": {
      "image/png": "[encoded data removed]",
      "text/plain": [
       "<matplotlib.figure.Figure at 0x7f3fc1fbe490>"
      ]
     },
     "metadata": {},
     "output_type": "display_data"
    },
    {
     "name": "stdout",
     "output_type": "stream",
     "text": [
      "Degree\n",
      "  Attribute  Count      Norm\n",
      "0       Cmp     18  0.048257\n",
      "1       Pos    330  0.884718\n",
      "2       Sup     25  0.067024\n"
     ]
    },
    {
     "data": {
      "image/png": "[encoded data removed]",
      "text/plain": [
       "<matplotlib.figure.Figure at 0x7f3fbf486cd0>"
      ]
     },
     "metadata": {},
     "output_type": "display_data"
    },
    {
     "name": "stdout",
     "output_type": "stream",
     "text": [
      "Gender\n",
      "   Attribute  Count      Norm\n",
      "0       Neut    782  0.153273\n",
      "1  Masc,Neut     72  0.014112\n",
      "2        Fem    903  0.176989\n",
      "3       Masc   3271  0.641121\n",
      "4   Fem,Masc     74  0.014504\n"
     ]
    },
    {
     "data": {
      "image/png": "[encoded data removed]",
      "text/plain": [
       "<matplotlib.figure.Figure at 0x7f3fbd29b250>"
      ]
     },
     "metadata": {},
     "output_type": "display_data"
    },
    {
     "name": "stdout",
     "output_type": "stream",
     "text": [
      "Number\n",
      "  Attribute  Count      Norm\n",
      "0      Sing   2706  0.679217\n",
      "1      Plur   1273  0.319528\n",
      "2      Dual      5  0.001255\n"
     ]
    },
    {
     "data": {
      "image/png": "[encoded data removed]",
      "text/plain": [
       "<matplotlib.figure.Figure at 0x7f3fbf8b4450>"
      ]
     },
     "metadata": {},
     "output_type": "display_data"
    },
    {
     "name": "stdout",
     "output_type": "stream",
     "text": [
      "Person\n",
      "  Attribute  Count      Norm\n",
      "0         1    435  0.154639\n",
      "1         3   1849  0.657305\n",
      "2         2    529  0.188055\n"
     ]
    },
    {
     "data": {
      "image/png": "[encoded data removed]",
      "text/plain": [
       "<matplotlib.figure.Figure at 0x7f3fc1e73510>"
      ]
     },
     "metadata": {},
     "output_type": "display_data"
    },
    {
     "name": "stdout",
     "output_type": "stream",
     "text": [
      "Tense\n",
      "  Attribute  Count      Norm\n",
      "0      Past   1068  0.435741\n",
      "1      Pres   1383  0.564259\n"
     ]
    },
    {
     "data": {
      "image/png": "[encoded data removed]",
      "text/plain": [
       "<matplotlib.figure.Figure at 0x7f3fc384c790>"
      ]
     },
     "metadata": {},
     "output_type": "display_data"
    },
    {
     "name": "stdout",
     "output_type": "stream",
     "text": [
      "VerbForm\n",
      "  Attribute  Count      Norm\n",
      "0       Inf    160  0.065279\n",
      "1      Part    545  0.222358\n",
      "2       Fin   1746  0.712362\n"
     ]
    },
    {
     "data": {
      "image/png": "[encoded data removed]",
      "text/plain": [
       "<matplotlib.figure.Figure at 0x7f3fc6535410>"
      ]
     },
     "metadata": {},
     "output_type": "display_data"
    }
   ],
   "source": [
    "categorical_attr_plot(got_train_attr_count)"
   ]
  },
  {
   "cell_type": "markdown",
   "metadata": {},
   "source": [
    "## Gothic Categorical attribute Statistic (test)"
   ]
  },
  {
   "cell_type": "code",
   "execution_count": 92,
   "metadata": {},
   "outputs": [
    {
     "name": "stdout",
     "output_type": "stream",
     "text": [
      "Case\n",
      "  Attribute  Count      Norm\n",
      "0       Dat   4907  0.276264\n",
      "1       Acc   4375  0.246312\n",
      "2       Voc    127  0.007150\n",
      "3       Gen   2423  0.136415\n",
      "4       Nom   5930  0.333859\n"
     ]
    },
    {
     "data": {
      "image/png": "[encoded data removed]",
      "text/plain": [
       "<matplotlib.figure.Figure at 0x7f3fc62b5650>"
      ]
     },
     "metadata": {},
     "output_type": "display_data"
    },
    {
     "name": "stdout",
     "output_type": "stream",
     "text": [
      "Mood\n",
      "  Attribute  Count      Norm\n",
      "0       Ind   4581  0.796557\n",
      "1       Imp    283  0.049209\n",
      "2       Opt    887  0.154234\n"
     ]
    },
    {
     "data": {
      "image/png": "[encoded data removed]",
      "text/plain": [
       "<matplotlib.figure.Figure at 0x7f3fc2fb8090>"
      ]
     },
     "metadata": {},
     "output_type": "display_data"
    },
    {
     "name": "stdout",
     "output_type": "stream",
     "text": [
      "Degree\n",
      "  Attribute  Count      Norm\n",
      "0       Sup     78  0.050032\n",
      "1       Pos   1408  0.903143\n",
      "2       Cmp     73  0.046825\n"
     ]
    },
    {
     "data": {
      "image/png": "[encoded data removed]",
      "text/plain": [
       "<matplotlib.figure.Figure at 0x7f3fc3779190>"
      ]
     },
     "metadata": {},
     "output_type": "display_data"
    },
    {
     "name": "stdout",
     "output_type": "stream",
     "text": [
      "Gender\n",
      "   Attribute  Count      Norm\n",
      "0   Fem,Masc    223  0.012730\n",
      "1        Fem   3494  0.199463\n",
      "2   Fem,Neut      4  0.000228\n",
      "3  Masc,Neut    421  0.024034\n",
      "4       Neut   2903  0.165725\n",
      "5       Masc  10472  0.597819\n"
     ]
    },
    {
     "data": {
      "image/png": "[encoded data removed]",
      "text/plain": [
       "<matplotlib.figure.Figure at 0x7f3fc2863510>"
      ]
     },
     "metadata": {},
     "output_type": "display_data"
    },
    {
     "name": "stdout",
     "output_type": "stream",
     "text": [
      "Number\n",
      "  Attribute  Count      Norm\n",
      "0      Sing   8530  0.644649\n",
      "1      Plur   4669  0.352857\n",
      "2      Dual     33  0.002494\n"
     ]
    },
    {
     "data": {
      "image/png": "[encoded data removed]",
      "text/plain": [
       "<matplotlib.figure.Figure at 0x7f3fc4255910>"
      ]
     },
     "metadata": {},
     "output_type": "display_data"
    },
    {
     "name": "stdout",
     "output_type": "stream",
     "text": [
      "Person\n",
      "  Attribute  Count      Norm\n",
      "0         1   2041  0.220125\n",
      "1         3   5110  0.551122\n",
      "2         2   2121  0.228753\n"
     ]
    },
    {
     "data": {
      "image/png": "[encoded data removed]",
      "text/plain": [
       "<matplotlib.figure.Figure at 0x7f3fc37b33d0>"
      ]
     },
     "metadata": {},
     "output_type": "display_data"
    },
    {
     "name": "stdout",
     "output_type": "stream",
     "text": [
      "Tense\n",
      "  Attribute  Count      Norm\n",
      "0      Past   2738  0.346013\n",
      "1      Pres   5175  0.653987\n"
     ]
    },
    {
     "data": {
      "image/png": "[encoded data removed]",
      "text/plain": [
       "<matplotlib.figure.Figure at 0x7f3fc389de50>"
      ]
     },
     "metadata": {},
     "output_type": "display_data"
    },
    {
     "name": "stdout",
     "output_type": "stream",
     "text": [
      "VerbForm\n",
      "  Attribute  Count      Norm\n",
      "0       Inf    552  0.069759\n",
      "1      Part   1610  0.203463\n",
      "2       Fin   5751  0.726779\n"
     ]
    },
    {
     "data": {
      "image/png": "[encoded data removed]",
      "text/plain": [
       "<matplotlib.figure.Figure at 0x7f3fc1ce8090>"
      ]
     },
     "metadata": {},
     "output_type": "display_data"
    }
   ],
   "source": [
    "categorical_attr_plot(got_test_attr_count)"
   ]
  },
  {
   "cell_type": "markdown",
   "metadata": {},
   "source": [
    "## Gothic Universal Dependency Statistic (train)"
   ]
  },
  {
   "cell_type": "code",
   "execution_count": 93,
   "metadata": {},
   "outputs": [
    {
     "data": {
      "text/html": [
       "<div>\n",
       "<table border=\"1\" class=\"dataframe\">\n",
       "  <thead>\n",
       "    <tr style=\"text-align: right;\">\n",
       "      <th></th>\n",
       "      <th>Dep</th>\n",
       "      <th>Count</th>\n",
       "      <th>Norm</th>\n",
       "    </tr>\n",
       "  </thead>\n",
       "  <tbody>\n",
       "    <tr>\n",
       "      <th>30</th>\n",
       "      <td>root</td>\n",
       "      <td>1028</td>\n",
       "      <td>0.100962</td>\n",
       "    </tr>\n",
       "    <tr>\n",
       "      <th>1</th>\n",
       "      <td>cc</td>\n",
       "      <td>906</td>\n",
       "      <td>0.088981</td>\n",
       "    </tr>\n",
       "    <tr>\n",
       "      <th>17</th>\n",
       "      <td>nsubj</td>\n",
       "      <td>857</td>\n",
       "      <td>0.084168</td>\n",
       "    </tr>\n",
       "    <tr>\n",
       "      <th>16</th>\n",
       "      <td>case</td>\n",
       "      <td>834</td>\n",
       "      <td>0.081909</td>\n",
       "    </tr>\n",
       "    <tr>\n",
       "      <th>23</th>\n",
       "      <td>obl</td>\n",
       "      <td>774</td>\n",
       "      <td>0.076016</td>\n",
       "    </tr>\n",
       "    <tr>\n",
       "      <th>8</th>\n",
       "      <td>obj:dir</td>\n",
       "      <td>753</td>\n",
       "      <td>0.073954</td>\n",
       "    </tr>\n",
       "    <tr>\n",
       "      <th>19</th>\n",
       "      <td>advmod</td>\n",
       "      <td>685</td>\n",
       "      <td>0.067276</td>\n",
       "    </tr>\n",
       "    <tr>\n",
       "      <th>25</th>\n",
       "      <td>det</td>\n",
       "      <td>574</td>\n",
       "      <td>0.056374</td>\n",
       "    </tr>\n",
       "    <tr>\n",
       "      <th>5</th>\n",
       "      <td>conj</td>\n",
       "      <td>572</td>\n",
       "      <td>0.056178</td>\n",
       "    </tr>\n",
       "    <tr>\n",
       "      <th>26</th>\n",
       "      <td>nmod</td>\n",
       "      <td>561</td>\n",
       "      <td>0.055097</td>\n",
       "    </tr>\n",
       "    <tr>\n",
       "      <th>12</th>\n",
       "      <td>advcl</td>\n",
       "      <td>524</td>\n",
       "      <td>0.051463</td>\n",
       "    </tr>\n",
       "    <tr>\n",
       "      <th>22</th>\n",
       "      <td>xcomp</td>\n",
       "      <td>390</td>\n",
       "      <td>0.038303</td>\n",
       "    </tr>\n",
       "    <tr>\n",
       "      <th>28</th>\n",
       "      <td>iobj</td>\n",
       "      <td>325</td>\n",
       "      <td>0.031919</td>\n",
       "    </tr>\n",
       "    <tr>\n",
       "      <th>10</th>\n",
       "      <td>mark</td>\n",
       "      <td>299</td>\n",
       "      <td>0.029366</td>\n",
       "    </tr>\n",
       "    <tr>\n",
       "      <th>11</th>\n",
       "      <td>discourse</td>\n",
       "      <td>246</td>\n",
       "      <td>0.024160</td>\n",
       "    </tr>\n",
       "    <tr>\n",
       "      <th>3</th>\n",
       "      <td>ccomp</td>\n",
       "      <td>154</td>\n",
       "      <td>0.015125</td>\n",
       "    </tr>\n",
       "    <tr>\n",
       "      <th>27</th>\n",
       "      <td>amod</td>\n",
       "      <td>153</td>\n",
       "      <td>0.015027</td>\n",
       "    </tr>\n",
       "    <tr>\n",
       "      <th>6</th>\n",
       "      <td>acl</td>\n",
       "      <td>151</td>\n",
       "      <td>0.014830</td>\n",
       "    </tr>\n",
       "    <tr>\n",
       "      <th>7</th>\n",
       "      <td>vocative</td>\n",
       "      <td>106</td>\n",
       "      <td>0.010411</td>\n",
       "    </tr>\n",
       "    <tr>\n",
       "      <th>24</th>\n",
       "      <td>appos</td>\n",
       "      <td>91</td>\n",
       "      <td>0.008937</td>\n",
       "    </tr>\n",
       "    <tr>\n",
       "      <th>2</th>\n",
       "      <td>orphan</td>\n",
       "      <td>54</td>\n",
       "      <td>0.005303</td>\n",
       "    </tr>\n",
       "    <tr>\n",
       "      <th>18</th>\n",
       "      <td>nummod</td>\n",
       "      <td>45</td>\n",
       "      <td>0.004420</td>\n",
       "    </tr>\n",
       "    <tr>\n",
       "      <th>13</th>\n",
       "      <td>aux</td>\n",
       "      <td>26</td>\n",
       "      <td>0.002554</td>\n",
       "    </tr>\n",
       "    <tr>\n",
       "      <th>9</th>\n",
       "      <td>nsubj:pass</td>\n",
       "      <td>25</td>\n",
       "      <td>0.002455</td>\n",
       "    </tr>\n",
       "    <tr>\n",
       "      <th>21</th>\n",
       "      <td>flat:name</td>\n",
       "      <td>21</td>\n",
       "      <td>0.002062</td>\n",
       "    </tr>\n",
       "    <tr>\n",
       "      <th>15</th>\n",
       "      <td>parataxis</td>\n",
       "      <td>14</td>\n",
       "      <td>0.001375</td>\n",
       "    </tr>\n",
       "    <tr>\n",
       "      <th>4</th>\n",
       "      <td>obl:agent</td>\n",
       "      <td>9</td>\n",
       "      <td>0.000884</td>\n",
       "    </tr>\n",
       "    <tr>\n",
       "      <th>14</th>\n",
       "      <td>csubj:pass</td>\n",
       "      <td>2</td>\n",
       "      <td>0.000196</td>\n",
       "    </tr>\n",
       "    <tr>\n",
       "      <th>20</th>\n",
       "      <td>aux:pass</td>\n",
       "      <td>1</td>\n",
       "      <td>0.000098</td>\n",
       "    </tr>\n",
       "    <tr>\n",
       "      <th>29</th>\n",
       "      <td>fixed</td>\n",
       "      <td>1</td>\n",
       "      <td>0.000098</td>\n",
       "    </tr>\n",
       "    <tr>\n",
       "      <th>0</th>\n",
       "      <td>flat</td>\n",
       "      <td>1</td>\n",
       "      <td>0.000098</td>\n",
       "    </tr>\n",
       "  </tbody>\n",
       "</table>\n",
       "</div>"
      ],
      "text/plain": [
       "           Dep  Count      Norm\n",
       "30        root   1028  0.100962\n",
       "1           cc    906  0.088981\n",
       "17       nsubj    857  0.084168\n",
       "16        case    834  0.081909\n",
       "23         obl    774  0.076016\n",
       "8      obj:dir    753  0.073954\n",
       "19      advmod    685  0.067276\n",
       "25         det    574  0.056374\n",
       "5         conj    572  0.056178\n",
       "26        nmod    561  0.055097\n",
       "12       advcl    524  0.051463\n",
       "22       xcomp    390  0.038303\n",
       "28        iobj    325  0.031919\n",
       "10        mark    299  0.029366\n",
       "11   discourse    246  0.024160\n",
       "3        ccomp    154  0.015125\n",
       "27        amod    153  0.015027\n",
       "6          acl    151  0.014830\n",
       "7     vocative    106  0.010411\n",
       "24       appos     91  0.008937\n",
       "2       orphan     54  0.005303\n",
       "18      nummod     45  0.004420\n",
       "13         aux     26  0.002554\n",
       "9   nsubj:pass     25  0.002455\n",
       "21   flat:name     21  0.002062\n",
       "15   parataxis     14  0.001375\n",
       "4    obl:agent      9  0.000884\n",
       "14  csubj:pass      2  0.000196\n",
       "20    aux:pass      1  0.000098\n",
       "29       fixed      1  0.000098\n",
       "0         flat      1  0.000098"
      ]
     },
     "execution_count": 93,
     "metadata": {},
     "output_type": "execute_result"
    }
   ],
   "source": [
    "got_train_dep = universal_dep_stat(got_train_dep_count)\n",
    "got_train_dep"
   ]
  },
  {
   "cell_type": "code",
   "execution_count": 94,
   "metadata": {},
   "outputs": [
    {
     "data": {
      "image/png": "[encoded data removed]",
      "text/plain": [
       "<matplotlib.figure.Figure at 0x7f3fc1c10150>"
      ]
     },
     "metadata": {},
     "output_type": "display_data"
    }
   ],
   "source": [
    "universal_dep_plot(got_train_dep)"
   ]
  },
  {
   "cell_type": "markdown",
   "metadata": {},
   "source": [
    "## Gothic Universal Dependency Statistic (test)"
   ]
  },
  {
   "cell_type": "code",
   "execution_count": 95,
   "metadata": {},
   "outputs": [
    {
     "data": {
      "text/html": [
       "<div>\n",
       "<table border=\"1\" class=\"dataframe\">\n",
       "  <thead>\n",
       "    <tr style=\"text-align: right;\">\n",
       "      <th></th>\n",
       "      <th>Dep</th>\n",
       "      <th>Count</th>\n",
       "      <th>Norm</th>\n",
       "    </tr>\n",
       "  </thead>\n",
       "  <tbody>\n",
       "    <tr>\n",
       "      <th>30</th>\n",
       "      <td>root</td>\n",
       "      <td>3387</td>\n",
       "      <td>0.096705</td>\n",
       "    </tr>\n",
       "    <tr>\n",
       "      <th>1</th>\n",
       "      <td>cc</td>\n",
       "      <td>3150</td>\n",
       "      <td>0.089938</td>\n",
       "    </tr>\n",
       "    <tr>\n",
       "      <th>22</th>\n",
       "      <td>case</td>\n",
       "      <td>3051</td>\n",
       "      <td>0.087112</td>\n",
       "    </tr>\n",
       "    <tr>\n",
       "      <th>17</th>\n",
       "      <td>nsubj</td>\n",
       "      <td>2792</td>\n",
       "      <td>0.079717</td>\n",
       "    </tr>\n",
       "    <tr>\n",
       "      <th>23</th>\n",
       "      <td>obl</td>\n",
       "      <td>2651</td>\n",
       "      <td>0.075691</td>\n",
       "    </tr>\n",
       "    <tr>\n",
       "      <th>19</th>\n",
       "      <td>advmod</td>\n",
       "      <td>2519</td>\n",
       "      <td>0.071922</td>\n",
       "    </tr>\n",
       "    <tr>\n",
       "      <th>8</th>\n",
       "      <td>obj:dir</td>\n",
       "      <td>2334</td>\n",
       "      <td>0.066640</td>\n",
       "    </tr>\n",
       "    <tr>\n",
       "      <th>27</th>\n",
       "      <td>nmod</td>\n",
       "      <td>2243</td>\n",
       "      <td>0.064042</td>\n",
       "    </tr>\n",
       "    <tr>\n",
       "      <th>5</th>\n",
       "      <td>conj</td>\n",
       "      <td>2110</td>\n",
       "      <td>0.060244</td>\n",
       "    </tr>\n",
       "    <tr>\n",
       "      <th>26</th>\n",
       "      <td>det</td>\n",
       "      <td>1851</td>\n",
       "      <td>0.052849</td>\n",
       "    </tr>\n",
       "    <tr>\n",
       "      <th>12</th>\n",
       "      <td>advcl</td>\n",
       "      <td>1569</td>\n",
       "      <td>0.044798</td>\n",
       "    </tr>\n",
       "    <tr>\n",
       "      <th>16</th>\n",
       "      <td>xcomp</td>\n",
       "      <td>1505</td>\n",
       "      <td>0.042971</td>\n",
       "    </tr>\n",
       "    <tr>\n",
       "      <th>10</th>\n",
       "      <td>mark</td>\n",
       "      <td>1074</td>\n",
       "      <td>0.030665</td>\n",
       "    </tr>\n",
       "    <tr>\n",
       "      <th>29</th>\n",
       "      <td>iobj</td>\n",
       "      <td>1073</td>\n",
       "      <td>0.030636</td>\n",
       "    </tr>\n",
       "    <tr>\n",
       "      <th>11</th>\n",
       "      <td>discourse</td>\n",
       "      <td>677</td>\n",
       "      <td>0.019330</td>\n",
       "    </tr>\n",
       "    <tr>\n",
       "      <th>6</th>\n",
       "      <td>amod</td>\n",
       "      <td>567</td>\n",
       "      <td>0.016189</td>\n",
       "    </tr>\n",
       "    <tr>\n",
       "      <th>28</th>\n",
       "      <td>acl</td>\n",
       "      <td>565</td>\n",
       "      <td>0.016132</td>\n",
       "    </tr>\n",
       "    <tr>\n",
       "      <th>3</th>\n",
       "      <td>ccomp</td>\n",
       "      <td>511</td>\n",
       "      <td>0.014590</td>\n",
       "    </tr>\n",
       "    <tr>\n",
       "      <th>25</th>\n",
       "      <td>appos</td>\n",
       "      <td>486</td>\n",
       "      <td>0.013876</td>\n",
       "    </tr>\n",
       "    <tr>\n",
       "      <th>7</th>\n",
       "      <td>vocative</td>\n",
       "      <td>229</td>\n",
       "      <td>0.006538</td>\n",
       "    </tr>\n",
       "    <tr>\n",
       "      <th>2</th>\n",
       "      <td>orphan</td>\n",
       "      <td>149</td>\n",
       "      <td>0.004254</td>\n",
       "    </tr>\n",
       "    <tr>\n",
       "      <th>9</th>\n",
       "      <td>nsubj:pass</td>\n",
       "      <td>144</td>\n",
       "      <td>0.004111</td>\n",
       "    </tr>\n",
       "    <tr>\n",
       "      <th>18</th>\n",
       "      <td>nummod</td>\n",
       "      <td>115</td>\n",
       "      <td>0.003283</td>\n",
       "    </tr>\n",
       "    <tr>\n",
       "      <th>21</th>\n",
       "      <td>flat:name</td>\n",
       "      <td>96</td>\n",
       "      <td>0.002741</td>\n",
       "    </tr>\n",
       "    <tr>\n",
       "      <th>13</th>\n",
       "      <td>aux</td>\n",
       "      <td>59</td>\n",
       "      <td>0.001685</td>\n",
       "    </tr>\n",
       "    <tr>\n",
       "      <th>15</th>\n",
       "      <td>parataxis</td>\n",
       "      <td>51</td>\n",
       "      <td>0.001456</td>\n",
       "    </tr>\n",
       "    <tr>\n",
       "      <th>4</th>\n",
       "      <td>obl:agent</td>\n",
       "      <td>45</td>\n",
       "      <td>0.001285</td>\n",
       "    </tr>\n",
       "    <tr>\n",
       "      <th>14</th>\n",
       "      <td>csubj:pass</td>\n",
       "      <td>15</td>\n",
       "      <td>0.000428</td>\n",
       "    </tr>\n",
       "    <tr>\n",
       "      <th>24</th>\n",
       "      <td>dep</td>\n",
       "      <td>3</td>\n",
       "      <td>0.000086</td>\n",
       "    </tr>\n",
       "    <tr>\n",
       "      <th>0</th>\n",
       "      <td>flat</td>\n",
       "      <td>2</td>\n",
       "      <td>0.000057</td>\n",
       "    </tr>\n",
       "    <tr>\n",
       "      <th>20</th>\n",
       "      <td>aux:pass</td>\n",
       "      <td>1</td>\n",
       "      <td>0.000029</td>\n",
       "    </tr>\n",
       "  </tbody>\n",
       "</table>\n",
       "</div>"
      ],
      "text/plain": [
       "           Dep  Count      Norm\n",
       "30        root   3387  0.096705\n",
       "1           cc   3150  0.089938\n",
       "22        case   3051  0.087112\n",
       "17       nsubj   2792  0.079717\n",
       "23         obl   2651  0.075691\n",
       "19      advmod   2519  0.071922\n",
       "8      obj:dir   2334  0.066640\n",
       "27        nmod   2243  0.064042\n",
       "5         conj   2110  0.060244\n",
       "26         det   1851  0.052849\n",
       "12       advcl   1569  0.044798\n",
       "16       xcomp   1505  0.042971\n",
       "10        mark   1074  0.030665\n",
       "29        iobj   1073  0.030636\n",
       "11   discourse    677  0.019330\n",
       "6         amod    567  0.016189\n",
       "28         acl    565  0.016132\n",
       "3        ccomp    511  0.014590\n",
       "25       appos    486  0.013876\n",
       "7     vocative    229  0.006538\n",
       "2       orphan    149  0.004254\n",
       "9   nsubj:pass    144  0.004111\n",
       "18      nummod    115  0.003283\n",
       "21   flat:name     96  0.002741\n",
       "13         aux     59  0.001685\n",
       "15   parataxis     51  0.001456\n",
       "4    obl:agent     45  0.001285\n",
       "14  csubj:pass     15  0.000428\n",
       "24         dep      3  0.000086\n",
       "0         flat      2  0.000057\n",
       "20    aux:pass      1  0.000029"
      ]
     },
     "execution_count": 95,
     "metadata": {},
     "output_type": "execute_result"
    }
   ],
   "source": [
    "got_test_dep = universal_dep_stat(got_test_dep_count)\n",
    "got_test_dep"
   ]
  },
  {
   "cell_type": "code",
   "execution_count": 96,
   "metadata": {},
   "outputs": [
    {
     "data": {
      "image/png": "[encoded data removed]",
      "text/plain": [
       "<matplotlib.figure.Figure at 0x7f3fba653bd0>"
      ]
     },
     "metadata": {},
     "output_type": "display_data"
    }
   ],
   "source": [
    "universal_dep_plot(got_test_dep)"
   ]
  },
  {
   "cell_type": "markdown",
   "metadata": {},
   "source": [
    "# Задание №2 "
   ]
  },
  {
   "cell_type": "code",
   "execution_count": null,
   "metadata": {
    "collapsed": true
   },
   "outputs": [],
   "source": []
  },
  {
   "cell_type": "code",
   "execution_count": 99,
   "metadata": {
    "collapsed": true
   },
   "outputs": [],
   "source": [
    "def parse_deps(filepath):\n",
    "    with open(filepath, 'r') as f:\n",
    "        lines = f.readlines()\n",
    "        deps = []\n",
    "        sentence = {}\n",
    "        for line in lines:\n",
    "            line = line.strip().split(TAB_CHAR)\n",
    "            if line[0].isdigit():\n",
    "                if int(line[0]) == 1:\n",
    "                    if sentence:\n",
    "                        deps.append(sentence)\n",
    "                    sentence = {}\n",
    "                if int(line[6]) in sentence:\n",
    "                    sentence[int(line[6])].append(int(line[0]))\n",
    "                else:\n",
    "                    sentence[int(line[6])] = [int(line[0])]\n",
    "        return deps\n",
    "\n",
    "    \n",
    "def is_projective(deps, word_id, lb, ub):\n",
    "    if word_id < lb or word_id > ub:\n",
    "        return False\n",
    "    if word_id in deps.keys():\n",
    "        for word in deps[word_id]:\n",
    "            if word < word_id:\n",
    "                return is_projective(deps, word, lb, min(ub, word_id))\n",
    "            else:\n",
    "                return is_projective(deps, word, max(lb, word_id), ub)\n",
    "    return True\n",
    "\n",
    "\n",
    "def get_non_projective_sents_id(filepath):\n",
    "    deps = parse_deps(filepath)\n",
    "    sentences = []\n",
    "    for i in xrange(len(deps)):\n",
    "        if not is_projective(deps[i], 0, -1, float(\"inf\")):\n",
    "            sentences.append(i)\n",
    "    return sentences, len(deps)\n",
    "\n",
    "def get_all_sentences(filepath):\n",
    "    with open(filepath) as f:\n",
    "        lines = f.readlines()\n",
    "        res = list()\n",
    "        ids = list()\n",
    "        for line in lines:\n",
    "            if line.startswith(\"# sent_id = \"):\n",
    "                ids.append(line.replace(\"# sent_id = \",\"\")[:-1])\n",
    "            if line.startswith(\"# text =\"):\n",
    "                res.append(line.replace(\"# text = \", \"\"))\n",
    "        return res, ids"
   ]
  },
  {
   "cell_type": "markdown",
   "metadata": {},
   "source": [
    "## English projective trees train"
   ]
  },
  {
   "cell_type": "code",
   "execution_count": 102,
   "metadata": {},
   "outputs": [
    {
     "name": "stdout",
     "output_type": "stream",
     "text": [
      "With SyntaxNet PoS-tagger:\n",
      "Projective count: 2076\n",
      "Non-projective count: 0\n",
      "Without PoS-tagger:\n",
      "Projective count: 2076\n",
      "Non-projective count: 0\n"
     ]
    }
   ],
   "source": [
    "en_pos_filename = '/output/eng-with-tagger.conll'\n",
    "en_without_pos_filename = '/output/eng-wo-tagger.conll'\n",
    "\n",
    "en_non_projective, all_deps_count = get_non_projective_sents_id(en_pos_filename)\n",
    "print('With SyntaxNet PoS-tagger:')\n",
    "print('Projective count: {}'.format(all_deps_count - len(en_non_projective)))\n",
    "print('Non-projective count: {}'.format(len(en_non_projective)))\n",
    "\n",
    "en_non_projective, all_deps_count = get_non_projective_sents_id(en_without_pos_filename)\n",
    "print('Without PoS-tagger:')\n",
    "print('Projective count: {}'.format(all_deps_count - len(en_non_projective)))\n",
    "print('Non-projective count: {}'.format(len(en_non_projective)))"
   ]
  },
  {
   "cell_type": "markdown",
   "metadata": {},
   "source": [
    "## English projective trees test"
   ]
  },
  {
   "cell_type": "code",
   "execution_count": 105,
   "metadata": {},
   "outputs": [
    {
     "name": "stdout",
     "output_type": "stream",
     "text": [
      "Projective count: 2065\n",
      "Non-projective count: 11\n",
      "Non-projective sentences:\n",
      "Sentence id: email-enronsent36_01-0005, sentence text: Team, sorry for the delay on getting this around.\n",
      "\n",
      "Sentence id: newsgroup-groups.google.com_HumorUniversity_00dd93cc9545deb3_ENG_20051130_122700-0004, sentence text: Good Morning* *\n",
      "\n",
      "Sentence id: newsgroup-groups.google.com_alt.animals.cat_003362349f033873_ENG_20040712_077100-0014, sentence text: -----= Posted via Newsfeeds.Com, Uncensored Usenet News =-----\n",
      "\n",
      "Sentence id: answers-20090801154222AA09uXV_ans-0001, sentence text: Which do you prefer Crab or Shrimp?\n",
      "\n",
      "Sentence id: answers-20111106022931AAwpqXm_ans-0001, sentence text: NZers: Have you decided who you're going to vote for?\n",
      "\n",
      "Sentence id: reviews-283903-0002, sentence text: quick in & out.\n",
      "\n",
      "Sentence id: reviews-363428-0004, sentence text: Nothing too much trouble for Ian, thanks for a great stay.\n",
      "\n",
      "Sentence id: reviews-329807-0004, sentence text: Highly recommended.\n",
      "\n",
      "Sentence id: reviews-374344-0003, sentence text: Highly recommended.\n",
      "\n",
      "Sentence id: reviews-374344-0008, sentence text: Bon appetit!\n",
      "\n",
      "Sentence id: reviews-107608-0004, sentence text: Highly recomended.\n",
      "\n"
     ]
    }
   ],
   "source": [
    "en_test_filename ='/data/UD_English/en-ud-test.conllu'\n",
    "en_test_non_projective, all_deps_count = get_non_projective_sents_id(en_test_filename)\n",
    "print('Projective count: {}'.format(all_deps_count - len(en_test_non_projective)))\n",
    "print('Non-projective count: {}'.format(len(en_test_non_projective)))\n",
    "print('Non-projective sentences:')\n",
    "en_test_sentences, en_sents_ids = get_all_sentences(en_test_filename)\n",
    "for i in en_test_non_projective:\n",
    "    print('Sentence id: {}, sentence text: {}'.format(en_sents_ids[i], en_test_sentences[i]))"
   ]
  },
  {
   "cell_type": "markdown",
   "metadata": {},
   "source": [
    "## Gothic projective trees train"
   ]
  },
  {
   "cell_type": "code",
   "execution_count": 104,
   "metadata": {},
   "outputs": [
    {
     "name": "stdout",
     "output_type": "stream",
     "text": [
      "With SyntaxNet PoS-tagger:\n",
      "Projective count: 1027\n",
      "Non-projective count: 0\n",
      "Without PoS-tagger:\n",
      "Projective count: 1027\n",
      "Non-projective count: 0\n"
     ]
    }
   ],
   "source": [
    "got_pos_filename = '/output/go-with-tagger.conll'\n",
    "got_without_pos_filename = '/output/go-wo-tagger.conll'\n",
    "\n",
    "got_non_projective, all_deps_count = get_non_projective_sents_id(got_pos_filename)\n",
    "print('With SyntaxNet PoS-tagger:')\n",
    "print('Projective count: {}'.format(all_deps_count - len(got_non_projective)))\n",
    "print('Non-projective count: {}'.format(len(got_non_projective)))\n",
    "\n",
    "got_non_projective, all_deps_count = get_non_projective_sents_id(got_without_pos_filename)\n",
    "print('Without PoS-tagger:')\n",
    "print('Projective count: {}'.format(all_deps_count - len(got_non_projective)))\n",
    "print('Non-projective count: {}'.format(len(got_non_projective)))"
   ]
  },
  {
   "cell_type": "markdown",
   "metadata": {},
   "source": [
    "## Gothic projective trees test"
   ]
  },
  {
   "cell_type": "code",
   "execution_count": 107,
   "metadata": {},
   "outputs": [
    {
     "name": "stdout",
     "output_type": "stream",
     "text": [
      "Projective count: 2065\n",
      "Non-projective count: 11\n",
      "Non-projective sentences:\n",
      "Sentence id: email-enronsent36_01-0005, sentence text: Team, sorry for the delay on getting this around.\n",
      "\n",
      "Sentence id: newsgroup-groups.google.com_HumorUniversity_00dd93cc9545deb3_ENG_20051130_122700-0004, sentence text: Good Morning* *\n",
      "\n",
      "Sentence id: newsgroup-groups.google.com_alt.animals.cat_003362349f033873_ENG_20040712_077100-0014, sentence text: -----= Posted via Newsfeeds.Com, Uncensored Usenet News =-----\n",
      "\n",
      "Sentence id: answers-20090801154222AA09uXV_ans-0001, sentence text: Which do you prefer Crab or Shrimp?\n",
      "\n",
      "Sentence id: answers-20111106022931AAwpqXm_ans-0001, sentence text: NZers: Have you decided who you're going to vote for?\n",
      "\n",
      "Sentence id: reviews-283903-0002, sentence text: quick in & out.\n",
      "\n",
      "Sentence id: reviews-363428-0004, sentence text: Nothing too much trouble for Ian, thanks for a great stay.\n",
      "\n",
      "Sentence id: reviews-329807-0004, sentence text: Highly recommended.\n",
      "\n",
      "Sentence id: reviews-374344-0003, sentence text: Highly recommended.\n",
      "\n",
      "Sentence id: reviews-374344-0008, sentence text: Bon appetit!\n",
      "\n",
      "Sentence id: reviews-107608-0004, sentence text: Highly recomended.\n",
      "\n"
     ]
    }
   ],
   "source": [
    "got_test_filename ='/data/UD_English/en-ud-test.conllu'\n",
    "got_test_non_projective, all_deps_count = get_non_projective_sents_id(got_test_filename)\n",
    "print('Projective count: {}'.format(all_deps_count - len(got_test_non_projective)))\n",
    "print('Non-projective count: {}'.format(len(got_test_non_projective)))\n",
    "print('Non-projective sentences:')\n",
    "got_test_sentences, got_sents_ids = get_all_sentences(got_test_filename)\n",
    "for i in got_test_non_projective:\n",
    "    print('Sentence id: {}, sentence text: {}'.format(got_sents_ids[i], got_test_sentences[i]))"
   ]
  },
  {
   "cell_type": "markdown",
   "metadata": {},
   "source": [
    "Можно сделать вывод, что для предложений, в которых не выполняется свойство проективности, SyntaxNet строит деревья неправильно. "
   ]
  },
  {
   "cell_type": "code",
   "execution_count": null,
   "metadata": {
    "collapsed": true
   },
   "outputs": [],
   "source": []
  }
 ],
 "metadata": {
  "kernelspec": {
   "display_name": "Python 2",
   "language": "python",
   "name": "python2"
  },
  "language_info": {
   "codemirror_mode": {
    "name": "ipython",
    "version": 2
   },
   "file_extension": ".py",
   "mimetype": "text/x-python",
   "name": "python",
   "nbconvert_exporter": "python",
   "pygments_lexer": "ipython2",
   "version": "2.7.9"
  }
 },
 "nbformat": 4,
 "nbformat_minor": 2
}
